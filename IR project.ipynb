{
 "cells": [
  {
   "cell_type": "markdown",
   "metadata": {
    "id": "4EvernO9EYpU"
   },
   "source": [
    "# IR System for dbpedia-entity\n"
   ]
  },
  {
   "cell_type": "markdown",
   "metadata": {
    "id": "K7gOkNtx_GFL"
   },
   "source": [
    "### DBpedia Entity Dataset\n",
    "\n",
    "The DBpedia Entity Dataset is designed to evaluate Information Retrieval (IR) systems focused on retrieving semantic entities. This dataset is based on DBpedia, a resource that extracts structured information from Wikipedia and organizes entities into a semantic network.\n"
   ]
  },
  {
   "cell_type": "code",
   "execution_count": null,
   "metadata": {
    "colab": {
     "base_uri": "https://localhost:8080/"
    },
    "executionInfo": {
     "elapsed": 42438,
     "status": "ok",
     "timestamp": 1737551250669,
     "user": {
      "displayName": "Nicola Tonellotto",
      "userId": "17533833776178224794"
     },
     "user_tz": -60
    },
    "id": "G2EFX_fzF5yC",
    "outputId": "35bd8dd6-3f2d-436e-8f3b-88a56d8f19de"
   },
   "outputs": [
    {
     "name": "stdout",
     "output_type": "stream",
     "text": [
      "Collecting ir_datasets\n",
      "  Downloading ir_datasets-0.5.9-py3-none-any.whl.metadata (12 kB)\n",
      "Requirement already satisfied: beautifulsoup4>=4.4.1 in /usr/local/lib/python3.11/dist-packages (from ir_datasets) (4.12.3)\n",
      "Collecting inscriptis>=2.2.0 (from ir_datasets)\n",
      "  Downloading inscriptis-2.5.3-py3-none-any.whl.metadata (25 kB)\n",
      "Requirement already satisfied: lxml>=4.5.2 in /usr/local/lib/python3.11/dist-packages (from ir_datasets) (5.3.0)\n",
      "Requirement already satisfied: numpy>=1.18.1 in /usr/local/lib/python3.11/dist-packages (from ir_datasets) (1.26.4)\n",
      "Requirement already satisfied: pyyaml>=5.3.1 in /usr/local/lib/python3.11/dist-packages (from ir_datasets) (6.0.2)\n",
      "Requirement already satisfied: requests>=2.22.0 in /usr/local/lib/python3.11/dist-packages (from ir_datasets) (2.32.3)\n",
      "Requirement already satisfied: tqdm>=4.38.0 in /usr/local/lib/python3.11/dist-packages (from ir_datasets) (4.67.1)\n",
      "Collecting trec-car-tools>=2.5.4 (from ir_datasets)\n",
      "  Downloading trec_car_tools-2.6-py3-none-any.whl.metadata (640 bytes)\n",
      "Collecting lz4>=3.1.10 (from ir_datasets)\n",
      "  Downloading lz4-4.3.3-cp311-cp311-manylinux_2_17_x86_64.manylinux2014_x86_64.whl.metadata (3.7 kB)\n",
      "Collecting warc3-wet>=0.2.3 (from ir_datasets)\n",
      "  Downloading warc3_wet-0.2.5-py3-none-any.whl.metadata (2.2 kB)\n",
      "Collecting warc3-wet-clueweb09>=0.2.5 (from ir_datasets)\n",
      "  Downloading warc3-wet-clueweb09-0.2.5.tar.gz (17 kB)\n",
      "  Preparing metadata (setup.py) ... \u001b[?25l\u001b[?25hdone\n",
      "Collecting zlib-state>=0.1.3 (from ir_datasets)\n",
      "  Downloading zlib_state-0.1.9-cp311-cp311-manylinux_2_17_x86_64.manylinux2014_x86_64.whl.metadata (3.3 kB)\n",
      "Collecting ijson>=3.1.3 (from ir_datasets)\n",
      "  Downloading ijson-3.3.0-cp311-cp311-manylinux_2_17_x86_64.manylinux2014_x86_64.whl.metadata (21 kB)\n",
      "Collecting unlzw3>=0.2.1 (from ir_datasets)\n",
      "  Downloading unlzw3-0.2.3-py3-none-any.whl.metadata (2.3 kB)\n",
      "Requirement already satisfied: soupsieve>1.2 in /usr/local/lib/python3.11/dist-packages (from beautifulsoup4>=4.4.1->ir_datasets) (2.6)\n",
      "Requirement already satisfied: charset-normalizer<4,>=2 in /usr/local/lib/python3.11/dist-packages (from requests>=2.22.0->ir_datasets) (3.4.1)\n",
      "Requirement already satisfied: idna<4,>=2.5 in /usr/local/lib/python3.11/dist-packages (from requests>=2.22.0->ir_datasets) (3.10)\n",
      "Requirement already satisfied: urllib3<3,>=1.21.1 in /usr/local/lib/python3.11/dist-packages (from requests>=2.22.0->ir_datasets) (2.3.0)\n",
      "Requirement already satisfied: certifi>=2017.4.17 in /usr/local/lib/python3.11/dist-packages (from requests>=2.22.0->ir_datasets) (2024.12.14)\n",
      "Collecting cbor>=1.0.0 (from trec-car-tools>=2.5.4->ir_datasets)\n",
      "  Downloading cbor-1.0.0.tar.gz (20 kB)\n",
      "  Preparing metadata (setup.py) ... \u001b[?25l\u001b[?25hdone\n",
      "Downloading ir_datasets-0.5.9-py3-none-any.whl (347 kB)\n",
      "\u001b[2K   \u001b[90m━━━━━━━━━━━━━━━━━━━━━━━━━━━━━━━━━━━━━━━━\u001b[0m \u001b[32m347.9/347.9 kB\u001b[0m \u001b[31m5.4 MB/s\u001b[0m eta \u001b[36m0:00:00\u001b[0m\n",
      "\u001b[?25hDownloading ijson-3.3.0-cp311-cp311-manylinux_2_17_x86_64.manylinux2014_x86_64.whl (119 kB)\n",
      "\u001b[2K   \u001b[90m━━━━━━━━━━━━━━━━━━━━━━━━━━━━━━━━━━━━━━━━\u001b[0m \u001b[32m119.2/119.2 kB\u001b[0m \u001b[31m5.7 MB/s\u001b[0m eta \u001b[36m0:00:00\u001b[0m\n",
      "\u001b[?25hDownloading inscriptis-2.5.3-py3-none-any.whl (45 kB)\n",
      "\u001b[2K   \u001b[90m━━━━━━━━━━━━━━━━━━━━━━━━━━━━━━━━━━━━━━━━\u001b[0m \u001b[32m45.4/45.4 kB\u001b[0m \u001b[31m2.0 MB/s\u001b[0m eta \u001b[36m0:00:00\u001b[0m\n",
      "\u001b[?25hDownloading lz4-4.3.3-cp311-cp311-manylinux_2_17_x86_64.manylinux2014_x86_64.whl (1.3 MB)\n",
      "\u001b[2K   \u001b[90m━━━━━━━━━━━━━━━━━━━━━━━━━━━━━━━━━━━━━━━━\u001b[0m \u001b[32m1.3/1.3 MB\u001b[0m \u001b[31m20.8 MB/s\u001b[0m eta \u001b[36m0:00:00\u001b[0m\n",
      "\u001b[?25hDownloading trec_car_tools-2.6-py3-none-any.whl (8.4 kB)\n",
      "Downloading unlzw3-0.2.3-py3-none-any.whl (6.7 kB)\n",
      "Downloading warc3_wet-0.2.5-py3-none-any.whl (18 kB)\n",
      "Downloading zlib_state-0.1.9-cp311-cp311-manylinux_2_17_x86_64.manylinux2014_x86_64.whl (21 kB)\n",
      "Building wheels for collected packages: warc3-wet-clueweb09, cbor\n",
      "  Building wheel for warc3-wet-clueweb09 (setup.py) ... \u001b[?25l\u001b[?25hdone\n",
      "  Created wheel for warc3-wet-clueweb09: filename=warc3_wet_clueweb09-0.2.5-py3-none-any.whl size=18920 sha256=35d16834cc6b09eaf941cd7900f09a47e5d53212cbf7fad6190c77bc04d0059f\n",
      "  Stored in directory: /root/.cache/pip/wheels/63/f9/dc/2dd16d3330e327236e4d407941975c42d5159d200cdb7922d8\n",
      "  Building wheel for cbor (setup.py) ... \u001b[?25l\u001b[?25hdone\n",
      "  Created wheel for cbor: filename=cbor-1.0.0-cp311-cp311-linux_x86_64.whl size=53932 sha256=1f67e755e7cb1d9f39bcc164278934fefc2a5d8ce41d1c1a4996fbbf53977128\n",
      "  Stored in directory: /root/.cache/pip/wheels/21/6b/45/0c34253b1af07d1d9dc524f6d44d74a6b191c43152e6aaf641\n",
      "Successfully built warc3-wet-clueweb09 cbor\n",
      "Installing collected packages: warc3-wet-clueweb09, warc3-wet, ijson, cbor, zlib-state, unlzw3, trec-car-tools, lz4, inscriptis, ir_datasets\n",
      "Successfully installed cbor-1.0.0 ijson-3.3.0 inscriptis-2.5.3 ir_datasets-0.5.9 lz4-4.3.3 trec-car-tools-2.6 unlzw3-0.2.3 warc3-wet-0.2.5 warc3-wet-clueweb09-0.2.5 zlib-state-0.1.9\n",
      "Collecting PyStemmer\n",
      "  Downloading PyStemmer-2.2.0.3-cp311-cp311-manylinux_2_5_x86_64.manylinux1_x86_64.manylinux_2_17_x86_64.manylinux2014_x86_64.whl.metadata (3.2 kB)\n",
      "Downloading PyStemmer-2.2.0.3-cp311-cp311-manylinux_2_5_x86_64.manylinux1_x86_64.manylinux_2_17_x86_64.manylinux2014_x86_64.whl (669 kB)\n",
      "\u001b[2K   \u001b[90m━━━━━━━━━━━━━━━━━━━━━━━━━━━━━━━━━━━━━━━━\u001b[0m \u001b[32m669.3/669.3 kB\u001b[0m \u001b[31m8.8 MB/s\u001b[0m eta \u001b[36m0:00:00\u001b[0m\n",
      "\u001b[?25hInstalling collected packages: PyStemmer\n",
      "Successfully installed PyStemmer-2.2.0.3\n",
      "Collecting ir_measures\n",
      "  Downloading ir_measures-0.3.6-py3-none-any.whl.metadata (7.0 kB)\n",
      "Collecting pytrec-eval-terrier>=0.5.5 (from ir_measures)\n",
      "  Downloading pytrec_eval_terrier-0.5.6-cp311-cp311-manylinux_2_17_x86_64.manylinux2014_x86_64.whl.metadata (777 bytes)\n",
      "Downloading ir_measures-0.3.6-py3-none-any.whl (60 kB)\n",
      "\u001b[2K   \u001b[90m━━━━━━━━━━━━━━━━━━━━━━━━━━━━━━━━━━━━━━━━\u001b[0m \u001b[32m60.1/60.1 kB\u001b[0m \u001b[31m3.5 MB/s\u001b[0m eta \u001b[36m0:00:00\u001b[0m\n",
      "\u001b[?25hDownloading pytrec_eval_terrier-0.5.6-cp311-cp311-manylinux_2_17_x86_64.manylinux2014_x86_64.whl (287 kB)\n",
      "\u001b[2K   \u001b[90m━━━━━━━━━━━━━━━━━━━━━━━━━━━━━━━━━━━━━━━━\u001b[0m \u001b[32m287.9/287.9 kB\u001b[0m \u001b[31m10.5 MB/s\u001b[0m eta \u001b[36m0:00:00\u001b[0m\n",
      "\u001b[?25hInstalling collected packages: pytrec-eval-terrier, ir_measures\n",
      "Successfully installed ir_measures-0.3.6 pytrec-eval-terrier-0.5.6\n",
      "  Preparing metadata (setup.py) ... \u001b[?25l\u001b[?25hdone\n",
      "  Preparing metadata (setup.py) ... \u001b[?25l\u001b[?25hdone\n",
      "\u001b[2K   \u001b[90m━━━━━━━━━━━━━━━━━━━━━━━━━━━━━━━━━━━━━━━━\u001b[0m \u001b[32m163.4/163.4 kB\u001b[0m \u001b[31m6.6 MB/s\u001b[0m eta \u001b[36m0:00:00\u001b[0m\n",
      "\u001b[2K   \u001b[90m━━━━━━━━━━━━━━━━━━━━━━━━━━━━━━━━━━━━━━━━\u001b[0m \u001b[32m1.6/1.6 MB\u001b[0m \u001b[31m43.2 MB/s\u001b[0m eta \u001b[36m0:00:00\u001b[0m\n",
      "\u001b[2K   \u001b[90m━━━━━━━━━━━━━━━━━━━━━━━━━━━━━━━━━━━━━━━━\u001b[0m \u001b[32m119.4/119.4 kB\u001b[0m \u001b[31m6.4 MB/s\u001b[0m eta \u001b[36m0:00:00\u001b[0m\n",
      "\u001b[?25h  Building wheel for chest (setup.py) ... \u001b[?25l\u001b[?25hdone\n",
      "  Building wheel for wget (setup.py) ... \u001b[?25l\u001b[?25hdone\n"
     ]
    }
   ],
   "source": [
    "# packets to install\n",
    "!pip install ir_datasets\n",
    "!pip install PyStemmer\n",
    "!pip install ir_measures\n",
    "!pip install -q python-terrier"
   ]
  },
  {
   "cell_type": "code",
   "execution_count": null,
   "metadata": {
    "colab": {
     "base_uri": "https://localhost:8080/"
    },
    "executionInfo": {
     "elapsed": 29750,
     "status": "ok",
     "timestamp": 1737551320461,
     "user": {
      "displayName": "Nicola Tonellotto",
      "userId": "17533833776178224794"
     },
     "user_tz": -60
    },
    "id": "CUw6qnSUP-r6",
    "outputId": "8c79ce00-0c5b-4802-b3af-ba0a8144b7d2"
   },
   "outputs": [
    {
     "name": "stdout",
     "output_type": "stream",
     "text": [
      "Mounted at /content/drive\n"
     ]
    }
   ],
   "source": [
    "# Access to drive, need for the index in Pyterrier\n",
    "import google.colab as google\n",
    "google.drive.mount('/content/drive')"
   ]
  },
  {
   "cell_type": "code",
   "execution_count": null,
   "metadata": {
    "colab": {
     "background_save": true,
     "base_uri": "https://localhost:8080/"
    },
    "id": "7A28vWKCEcjN",
    "outputId": "5b110081-444d-4cd6-b8d2-6c3b0c8851cd"
   },
   "outputs": [
    {
     "name": "stderr",
     "output_type": "stream",
     "text": [
      "[INFO] [starting] building docstore\n",
      "[INFO] [starting] opening zip file\n",
      "[INFO] If you have a local copy of https://public.ukp.informatik.tu-darmstadt.de/thakur/BEIR/datasets/dbpedia-entity.zip, you can symlink it here to avoid downloading it again: /root/.ir_datasets/downloads/c2a39eb420a3164af735795df012ac2c\n",
      "[INFO] [starting] https://public.ukp.informatik.tu-darmstadt.de/thakur/BEIR/datasets/dbpedia-entity.zip\n",
      "docs_iter:   0%|                                   | 0/4635922 [00:00<?, ?doc/s]\n",
      "https://public.ukp.informatik.tu-darmstadt.de/thakur/BEIR/datasets/dbpedia-entity.zip: 0.0%| 0.00/639M [00:00<?, ?B/s]\u001b[A\n",
      "https://public.ukp.informatik.tu-darmstadt.de/thakur/BEIR/datasets/dbpedia-entity.zip: 0.0%| 32.8k/639M [00:00<1:01:20, 174kB/s]\u001b[A\n",
      "https://public.ukp.informatik.tu-darmstadt.de/thakur/BEIR/datasets/dbpedia-entity.zip: 0.0%| 98.3k/639M [00:00<35:51, 297kB/s]  \u001b[A\n",
      "https://public.ukp.informatik.tu-darmstadt.de/thakur/BEIR/datasets/dbpedia-entity.zip: 0.0%| 229k/639M [00:00<21:57, 485kB/s] \u001b[A\n",
      "https://public.ukp.informatik.tu-darmstadt.de/thakur/BEIR/datasets/dbpedia-entity.zip: 0.1%| 475k/639M [00:00<13:46, 773kB/s]\u001b[A\n",
      "https://public.ukp.informatik.tu-darmstadt.de/thakur/BEIR/datasets/dbpedia-entity.zip: 0.2%| 983k/639M [00:00<08:11, 1.30MB/s]\u001b[A\n",
      "https://public.ukp.informatik.tu-darmstadt.de/thakur/BEIR/datasets/dbpedia-entity.zip: 0.3%| 1.98M/639M [00:00<04:49, 2.20MB/s]\u001b[A\n",
      "https://public.ukp.informatik.tu-darmstadt.de/thakur/BEIR/datasets/dbpedia-entity.zip: 0.6%| 3.93M/639M [00:01<02:48, 3.77MB/s]\u001b[A\n",
      "https://public.ukp.informatik.tu-darmstadt.de/thakur/BEIR/datasets/dbpedia-entity.zip: 1.1%| 7.18M/639M [00:01<01:45, 6.02MB/s]\u001b[A\n",
      "https://public.ukp.informatik.tu-darmstadt.de/thakur/BEIR/datasets/dbpedia-entity.zip: 1.6%| 10.4M/639M [00:01<01:38, 6.36MB/s]\u001b[A\n",
      "https://public.ukp.informatik.tu-darmstadt.de/thakur/BEIR/datasets/dbpedia-entity.zip: 2.1%| 13.7M/639M [00:01<01:21, 7.64MB/s]\u001b[A\n",
      "https://public.ukp.informatik.tu-darmstadt.de/thakur/BEIR/datasets/dbpedia-entity.zip: 2.6%| 16.9M/639M [00:02<01:16, 8.15MB/s]\u001b[A\n",
      "https://public.ukp.informatik.tu-darmstadt.de/thakur/BEIR/datasets/dbpedia-entity.zip: 3.2%| 20.2M/639M [00:04<02:10, 4.73MB/s]\u001b[A\n",
      "https://public.ukp.informatik.tu-darmstadt.de/thakur/BEIR/datasets/dbpedia-entity.zip: 3.7%| 23.4M/639M [00:09<04:03, 2.53MB/s]\u001b[A\n",
      "https://public.ukp.informatik.tu-darmstadt.de/thakur/BEIR/datasets/dbpedia-entity.zip: 4.2%| 26.6M/639M [00:09<03:42, 2.76MB/s]\u001b[A\n",
      "https://public.ukp.informatik.tu-darmstadt.de/thakur/BEIR/datasets/dbpedia-entity.zip: 4.7%| 29.9M/639M [00:09<03:20, 3.04MB/s]\u001b[A\n",
      "https://public.ukp.informatik.tu-darmstadt.de/thakur/BEIR/datasets/dbpedia-entity.zip: 5.2%| 33.1M/639M [00:09<03:02, 3.32MB/s]\u001b[A\n",
      "https://public.ukp.informatik.tu-darmstadt.de/thakur/BEIR/datasets/dbpedia-entity.zip: 5.7%| 36.4M/639M [00:14<04:01, 2.50MB/s]\u001b[A\n",
      "https://public.ukp.informatik.tu-darmstadt.de/thakur/BEIR/datasets/dbpedia-entity.zip: 6.2%| 39.6M/639M [00:15<03:53, 2.57MB/s]\u001b[A\n",
      "https://public.ukp.informatik.tu-darmstadt.de/thakur/BEIR/datasets/dbpedia-entity.zip: 6.7%| 42.9M/639M [00:15<03:38, 2.73MB/s]\u001b[A\n",
      "https://public.ukp.informatik.tu-darmstadt.de/thakur/BEIR/datasets/dbpedia-entity.zip: 7.2%| 46.1M/639M [00:15<03:24, 2.91MB/s]\u001b[A\n",
      "https://public.ukp.informatik.tu-darmstadt.de/thakur/BEIR/datasets/dbpedia-entity.zip: 7.7%| 49.3M/639M [00:16<03:19, 2.96MB/s]\u001b[A\n",
      "https://public.ukp.informatik.tu-darmstadt.de/thakur/BEIR/datasets/dbpedia-entity.zip: 8.2%| 52.6M/639M [00:16<03:09, 3.09MB/s]\u001b[A\n",
      "https://public.ukp.informatik.tu-darmstadt.de/thakur/BEIR/datasets/dbpedia-entity.zip: 8.7%| 55.8M/639M [00:17<03:00, 3.23MB/s]\u001b[A\n",
      "https://public.ukp.informatik.tu-darmstadt.de/thakur/BEIR/datasets/dbpedia-entity.zip: 9.2%| 59.1M/639M [00:17<02:53, 3.34MB/s]\u001b[A\n",
      "https://public.ukp.informatik.tu-darmstadt.de/thakur/BEIR/datasets/dbpedia-entity.zip: 9.7%| 62.3M/639M [00:17<02:46, 3.46MB/s]\u001b[A\n",
      "https://public.ukp.informatik.tu-darmstadt.de/thakur/BEIR/datasets/dbpedia-entity.zip: 10.3%| 65.6M/639M [00:18<02:39, 3.59MB/s]\u001b[A\n",
      "https://public.ukp.informatik.tu-darmstadt.de/thakur/BEIR/datasets/dbpedia-entity.zip: 10.8%| 68.8M/639M [00:18<02:33, 3.70MB/s]\u001b[A\n",
      "https://public.ukp.informatik.tu-darmstadt.de/thakur/BEIR/datasets/dbpedia-entity.zip: 11.3%| 72.1M/639M [00:18<02:28, 3.82MB/s]\u001b[A\n",
      "https://public.ukp.informatik.tu-darmstadt.de/thakur/BEIR/datasets/dbpedia-entity.zip: 11.8%| 75.3M/639M [00:19<02:24, 3.91MB/s]\u001b[A\n",
      "https://public.ukp.informatik.tu-darmstadt.de/thakur/BEIR/datasets/dbpedia-entity.zip: 12.3%| 78.5M/639M [00:19<02:19, 4.02MB/s]\u001b[A\n",
      "https://public.ukp.informatik.tu-darmstadt.de/thakur/BEIR/datasets/dbpedia-entity.zip: 12.8%| 81.8M/639M [00:19<02:15, 4.12MB/s]\u001b[A\n",
      "https://public.ukp.informatik.tu-darmstadt.de/thakur/BEIR/datasets/dbpedia-entity.zip: 13.3%| 85.0M/639M [00:20<02:11, 4.22MB/s]\u001b[A\n",
      "https://public.ukp.informatik.tu-darmstadt.de/thakur/BEIR/datasets/dbpedia-entity.zip: 13.8%| 88.3M/639M [00:20<02:08, 4.29MB/s]\u001b[A\n",
      "https://public.ukp.informatik.tu-darmstadt.de/thakur/BEIR/datasets/dbpedia-entity.zip: 14.3%| 91.5M/639M [00:20<02:05, 4.36MB/s]\u001b[A\n",
      "https://public.ukp.informatik.tu-darmstadt.de/thakur/BEIR/datasets/dbpedia-entity.zip: 14.8%| 94.8M/639M [00:21<02:02, 4.43MB/s]\u001b[A\n",
      "https://public.ukp.informatik.tu-darmstadt.de/thakur/BEIR/datasets/dbpedia-entity.zip: 15.3%| 98.0M/639M [00:21<01:59, 4.51MB/s]\u001b[A\n",
      "https://public.ukp.informatik.tu-darmstadt.de/thakur/BEIR/datasets/dbpedia-entity.zip: 15.8%| 101M/639M [00:22<01:57, 4.58MB/s] \u001b[A\n",
      "https://public.ukp.informatik.tu-darmstadt.de/thakur/BEIR/datasets/dbpedia-entity.zip: 16.3%| 104M/639M [00:22<01:55, 4.64MB/s]\u001b[A\n",
      "https://public.ukp.informatik.tu-darmstadt.de/thakur/BEIR/datasets/dbpedia-entity.zip: 16.9%| 108M/639M [00:22<01:52, 4.72MB/s]\u001b[A\n",
      "https://public.ukp.informatik.tu-darmstadt.de/thakur/BEIR/datasets/dbpedia-entity.zip: 17.4%| 111M/639M [00:23<01:50, 4.77MB/s]\u001b[A\n",
      "https://public.ukp.informatik.tu-darmstadt.de/thakur/BEIR/datasets/dbpedia-entity.zip: 17.9%| 114M/639M [00:23<01:48, 4.85MB/s]\u001b[A\n",
      "https://public.ukp.informatik.tu-darmstadt.de/thakur/BEIR/datasets/dbpedia-entity.zip: 18.4%| 117M/639M [00:23<01:46, 4.90MB/s]\u001b[A\n",
      "https://public.ukp.informatik.tu-darmstadt.de/thakur/BEIR/datasets/dbpedia-entity.zip: 18.9%| 121M/639M [00:24<01:44, 4.97MB/s]\u001b[A\n",
      "https://public.ukp.informatik.tu-darmstadt.de/thakur/BEIR/datasets/dbpedia-entity.zip: 19.4%| 124M/639M [00:24<01:42, 5.02MB/s]\u001b[A\n",
      "https://public.ukp.informatik.tu-darmstadt.de/thakur/BEIR/datasets/dbpedia-entity.zip: 19.9%| 127M/639M [00:24<01:40, 5.09MB/s]\u001b[A\n",
      "https://public.ukp.informatik.tu-darmstadt.de/thakur/BEIR/datasets/dbpedia-entity.zip: 20.4%| 130M/639M [00:25<01:39, 5.14MB/s]\u001b[A\n",
      "https://public.ukp.informatik.tu-darmstadt.de/thakur/BEIR/datasets/dbpedia-entity.zip: 20.9%| 134M/639M [00:25<01:37, 5.20MB/s]\u001b[A\n",
      "https://public.ukp.informatik.tu-darmstadt.de/thakur/BEIR/datasets/dbpedia-entity.zip: 21.4%| 137M/639M [00:26<01:35, 5.25MB/s]\u001b[A\n",
      "https://public.ukp.informatik.tu-darmstadt.de/thakur/BEIR/datasets/dbpedia-entity.zip: 21.9%| 140M/639M [00:26<01:33, 5.31MB/s]\u001b[A\n",
      "https://public.ukp.informatik.tu-darmstadt.de/thakur/BEIR/datasets/dbpedia-entity.zip: 22.4%| 143M/639M [00:26<01:32, 5.37MB/s]\u001b[A\n",
      "https://public.ukp.informatik.tu-darmstadt.de/thakur/BEIR/datasets/dbpedia-entity.zip: 22.9%| 147M/639M [00:27<01:31, 5.41MB/s]\u001b[A\n",
      "https://public.ukp.informatik.tu-darmstadt.de/thakur/BEIR/datasets/dbpedia-entity.zip: 23.5%| 150M/639M [00:27<01:29, 5.47MB/s]\u001b[A\n",
      "https://public.ukp.informatik.tu-darmstadt.de/thakur/BEIR/datasets/dbpedia-entity.zip: 24.0%| 153M/639M [00:27<01:28, 5.51MB/s]\u001b[A\n",
      "https://public.ukp.informatik.tu-darmstadt.de/thakur/BEIR/datasets/dbpedia-entity.zip: 24.5%| 156M/639M [00:28<01:26, 5.56MB/s]\u001b[A\n",
      "https://public.ukp.informatik.tu-darmstadt.de/thakur/BEIR/datasets/dbpedia-entity.zip: 25.0%| 160M/639M [00:28<01:25, 5.60MB/s]\u001b[A\n",
      "https://public.ukp.informatik.tu-darmstadt.de/thakur/BEIR/datasets/dbpedia-entity.zip: 25.5%| 163M/639M [00:28<01:24, 5.65MB/s]\u001b[A\n",
      "https://public.ukp.informatik.tu-darmstadt.de/thakur/BEIR/datasets/dbpedia-entity.zip: 26.0%| 166M/639M [00:29<01:23, 5.69MB/s]\u001b[A\n",
      "https://public.ukp.informatik.tu-darmstadt.de/thakur/BEIR/datasets/dbpedia-entity.zip: 26.5%| 169M/639M [00:29<01:21, 5.74MB/s]\u001b[A\n",
      "https://public.ukp.informatik.tu-darmstadt.de/thakur/BEIR/datasets/dbpedia-entity.zip: 27.0%| 173M/639M [00:29<01:20, 5.79MB/s]\u001b[A\n",
      "https://public.ukp.informatik.tu-darmstadt.de/thakur/BEIR/datasets/dbpedia-entity.zip: 27.5%| 176M/639M [00:30<01:19, 5.82MB/s]\u001b[A\n",
      "https://public.ukp.informatik.tu-darmstadt.de/thakur/BEIR/datasets/dbpedia-entity.zip: 28.0%| 179M/639M [00:30<01:18, 5.86MB/s]\u001b[A\n",
      "https://public.ukp.informatik.tu-darmstadt.de/thakur/BEIR/datasets/dbpedia-entity.zip: 28.5%| 182M/639M [00:30<01:17, 5.89MB/s]\u001b[A\n",
      "https://public.ukp.informatik.tu-darmstadt.de/thakur/BEIR/datasets/dbpedia-entity.zip: 29.0%| 186M/639M [00:31<01:16, 5.94MB/s]\u001b[A\n",
      "https://public.ukp.informatik.tu-darmstadt.de/thakur/BEIR/datasets/dbpedia-entity.zip: 29.5%| 189M/639M [00:31<01:15, 5.97MB/s]\u001b[A\n",
      "https://public.ukp.informatik.tu-darmstadt.de/thakur/BEIR/datasets/dbpedia-entity.zip: 30.0%| 192M/639M [00:31<01:14, 6.01MB/s]\u001b[A\n",
      "https://public.ukp.informatik.tu-darmstadt.de/thakur/BEIR/datasets/dbpedia-entity.zip: 30.6%| 195M/639M [00:32<01:13, 6.06MB/s]\u001b[A\n",
      "https://public.ukp.informatik.tu-darmstadt.de/thakur/BEIR/datasets/dbpedia-entity.zip: 31.1%| 199M/639M [00:32<01:12, 6.08MB/s]\u001b[A\n",
      "https://public.ukp.informatik.tu-darmstadt.de/thakur/BEIR/datasets/dbpedia-entity.zip: 31.6%| 202M/639M [00:32<01:11, 6.12MB/s]\u001b[A\n",
      "https://public.ukp.informatik.tu-darmstadt.de/thakur/BEIR/datasets/dbpedia-entity.zip: 32.1%| 205M/639M [00:33<01:10, 6.17MB/s]\u001b[A\n",
      "https://public.ukp.informatik.tu-darmstadt.de/thakur/BEIR/datasets/dbpedia-entity.zip: 32.6%| 208M/639M [00:33<01:09, 6.20MB/s]\u001b[A\n",
      "https://public.ukp.informatik.tu-darmstadt.de/thakur/BEIR/datasets/dbpedia-entity.zip: 33.1%| 212M/639M [00:33<01:08, 6.23MB/s]\u001b[A\n",
      "https://public.ukp.informatik.tu-darmstadt.de/thakur/BEIR/datasets/dbpedia-entity.zip: 33.6%| 215M/639M [00:34<01:07, 6.27MB/s]\u001b[A\n",
      "https://public.ukp.informatik.tu-darmstadt.de/thakur/BEIR/datasets/dbpedia-entity.zip: 34.1%| 218M/639M [00:34<01:06, 6.31MB/s]\u001b[A\n",
      "https://public.ukp.informatik.tu-darmstadt.de/thakur/BEIR/datasets/dbpedia-entity.zip: 34.6%| 221M/639M [00:34<01:05, 6.36MB/s]\u001b[A\n",
      "https://public.ukp.informatik.tu-darmstadt.de/thakur/BEIR/datasets/dbpedia-entity.zip: 35.1%| 225M/639M [00:35<01:04, 6.40MB/s]\u001b[A\n",
      "https://public.ukp.informatik.tu-darmstadt.de/thakur/BEIR/datasets/dbpedia-entity.zip: 35.6%| 228M/639M [00:35<01:04, 6.43MB/s]\u001b[A\n",
      "https://public.ukp.informatik.tu-darmstadt.de/thakur/BEIR/datasets/dbpedia-entity.zip: 36.1%| 231M/639M [00:35<01:03, 6.46MB/s]\u001b[A\n",
      "https://public.ukp.informatik.tu-darmstadt.de/thakur/BEIR/datasets/dbpedia-entity.zip: 36.6%| 234M/639M [00:36<01:02, 6.47MB/s]\u001b[A\n",
      "https://public.ukp.informatik.tu-darmstadt.de/thakur/BEIR/datasets/dbpedia-entity.zip: 37.2%| 238M/639M [00:36<01:01, 6.50MB/s]\u001b[A\n",
      "https://public.ukp.informatik.tu-darmstadt.de/thakur/BEIR/datasets/dbpedia-entity.zip: 37.7%| 241M/639M [00:36<01:01, 6.52MB/s]\u001b[A\n",
      "https://public.ukp.informatik.tu-darmstadt.de/thakur/BEIR/datasets/dbpedia-entity.zip: 38.2%| 244M/639M [00:37<01:00, 6.55MB/s]\u001b[A\n",
      "https://public.ukp.informatik.tu-darmstadt.de/thakur/BEIR/datasets/dbpedia-entity.zip: 38.7%| 247M/639M [00:37<00:59, 6.57MB/s]\u001b[A\n",
      "https://public.ukp.informatik.tu-darmstadt.de/thakur/BEIR/datasets/dbpedia-entity.zip: 39.2%| 250M/639M [00:37<00:58, 6.60MB/s]\u001b[A\n",
      "https://public.ukp.informatik.tu-darmstadt.de/thakur/BEIR/datasets/dbpedia-entity.zip: 39.7%| 254M/639M [00:38<00:58, 6.62MB/s]\u001b[A\n",
      "https://public.ukp.informatik.tu-darmstadt.de/thakur/BEIR/datasets/dbpedia-entity.zip: 40.2%| 257M/639M [00:38<00:57, 6.65MB/s]\u001b[A\n",
      "https://public.ukp.informatik.tu-darmstadt.de/thakur/BEIR/datasets/dbpedia-entity.zip: 40.7%| 260M/639M [00:38<00:56, 6.68MB/s]\u001b[A\n",
      "https://public.ukp.informatik.tu-darmstadt.de/thakur/BEIR/datasets/dbpedia-entity.zip: 41.2%| 263M/639M [00:39<00:55, 6.71MB/s]\u001b[A\n",
      "https://public.ukp.informatik.tu-darmstadt.de/thakur/BEIR/datasets/dbpedia-entity.zip: 41.7%| 267M/639M [00:39<00:55, 6.73MB/s]\u001b[A\n",
      "https://public.ukp.informatik.tu-darmstadt.de/thakur/BEIR/datasets/dbpedia-entity.zip: 42.2%| 270M/639M [00:39<00:54, 6.77MB/s]\u001b[A\n",
      "https://public.ukp.informatik.tu-darmstadt.de/thakur/BEIR/datasets/dbpedia-entity.zip: 42.7%| 273M/639M [00:40<00:53, 6.79MB/s]\u001b[A\n",
      "https://public.ukp.informatik.tu-darmstadt.de/thakur/BEIR/datasets/dbpedia-entity.zip: 43.2%| 276M/639M [00:40<00:53, 6.82MB/s]\u001b[A\n",
      "https://public.ukp.informatik.tu-darmstadt.de/thakur/BEIR/datasets/dbpedia-entity.zip: 43.7%| 280M/639M [00:41<00:53, 6.75MB/s]\u001b[A\n",
      "https://public.ukp.informatik.tu-darmstadt.de/thakur/BEIR/datasets/dbpedia-entity.zip: 44.3%| 283M/639M [00:41<00:52, 6.76MB/s]\u001b[A\n",
      "https://public.ukp.informatik.tu-darmstadt.de/thakur/BEIR/datasets/dbpedia-entity.zip: 44.8%| 286M/639M [00:42<00:52, 6.77MB/s]\u001b[A\n",
      "https://public.ukp.informatik.tu-darmstadt.de/thakur/BEIR/datasets/dbpedia-entity.zip: 45.3%| 289M/639M [00:42<00:51, 6.79MB/s]\u001b[A\n",
      "https://public.ukp.informatik.tu-darmstadt.de/thakur/BEIR/datasets/dbpedia-entity.zip: 45.8%| 293M/639M [00:43<00:50, 6.80MB/s]\u001b[A\n",
      "https://public.ukp.informatik.tu-darmstadt.de/thakur/BEIR/datasets/dbpedia-entity.zip: 46.3%| 296M/639M [00:43<00:50, 6.81MB/s]\u001b[A\n",
      "https://public.ukp.informatik.tu-darmstadt.de/thakur/BEIR/datasets/dbpedia-entity.zip: 46.8%| 299M/639M [00:43<00:49, 6.84MB/s]\u001b[A\n",
      "https://public.ukp.informatik.tu-darmstadt.de/thakur/BEIR/datasets/dbpedia-entity.zip: 47.3%| 302M/639M [00:44<00:49, 6.85MB/s]\u001b[A\n",
      "https://public.ukp.informatik.tu-darmstadt.de/thakur/BEIR/datasets/dbpedia-entity.zip: 47.8%| 306M/639M [00:48<00:53, 6.27MB/s]\u001b[A\n",
      "https://public.ukp.informatik.tu-darmstadt.de/thakur/BEIR/datasets/dbpedia-entity.zip: 48.3%| 309M/639M [00:50<00:53, 6.16MB/s]\u001b[A\n",
      "https://public.ukp.informatik.tu-darmstadt.de/thakur/BEIR/datasets/dbpedia-entity.zip: 48.8%| 312M/639M [00:50<00:53, 6.12MB/s]\u001b[A\n",
      "https://public.ukp.informatik.tu-darmstadt.de/thakur/BEIR/datasets/dbpedia-entity.zip: 49.3%| 315M/639M [00:51<00:53, 6.08MB/s]\u001b[A\n",
      "https://public.ukp.informatik.tu-darmstadt.de/thakur/BEIR/datasets/dbpedia-entity.zip: 49.8%| 319M/639M [00:52<00:53, 6.04MB/s]\u001b[A\n",
      "https://public.ukp.informatik.tu-darmstadt.de/thakur/BEIR/datasets/dbpedia-entity.zip: 50.3%| 322M/639M [00:53<00:52, 6.01MB/s]\u001b[A\n",
      "https://public.ukp.informatik.tu-darmstadt.de/thakur/BEIR/datasets/dbpedia-entity.zip: 50.9%| 325M/639M [00:54<00:52, 5.98MB/s]\u001b[A\n",
      "https://public.ukp.informatik.tu-darmstadt.de/thakur/BEIR/datasets/dbpedia-entity.zip: 51.4%| 328M/639M [00:55<00:52, 5.95MB/s]\u001b[A\n",
      "https://public.ukp.informatik.tu-darmstadt.de/thakur/BEIR/datasets/dbpedia-entity.zip: 51.9%| 332M/639M [00:55<00:51, 5.92MB/s]\u001b[A\n",
      "https://public.ukp.informatik.tu-darmstadt.de/thakur/BEIR/datasets/dbpedia-entity.zip: 52.4%| 335M/639M [01:09<01:02, 4.85MB/s]\u001b[A\n",
      "https://public.ukp.informatik.tu-darmstadt.de/thakur/BEIR/datasets/dbpedia-entity.zip: 52.4%| 335M/639M [01:09<01:02, 4.84MB/s]\u001b[A\n",
      "https://public.ukp.informatik.tu-darmstadt.de/thakur/BEIR/datasets/dbpedia-entity.zip: 52.4%| 335M/639M [01:09<01:02, 4.83MB/s]\u001b[A\n",
      "https://public.ukp.informatik.tu-darmstadt.de/thakur/BEIR/datasets/dbpedia-entity.zip: 52.4%| 335M/639M [01:09<01:03, 4.82MB/s]\u001b[A\n",
      "https://public.ukp.informatik.tu-darmstadt.de/thakur/BEIR/datasets/dbpedia-entity.zip: 52.4%| 335M/639M [01:09<01:03, 4.82MB/s]\u001b[A\n",
      "https://public.ukp.informatik.tu-darmstadt.de/thakur/BEIR/datasets/dbpedia-entity.zip: 52.4%| 335M/639M [01:09<01:03, 4.81MB/s]\u001b[A\n",
      "https://public.ukp.informatik.tu-darmstadt.de/thakur/BEIR/datasets/dbpedia-entity.zip: 52.4%| 335M/639M [01:09<01:03, 4.80MB/s]\u001b[A\n",
      "https://public.ukp.informatik.tu-darmstadt.de/thakur/BEIR/datasets/dbpedia-entity.zip: 52.5%| 335M/639M [01:09<01:03, 4.79MB/s]\u001b[A\n",
      "https://public.ukp.informatik.tu-darmstadt.de/thakur/BEIR/datasets/dbpedia-entity.zip: 52.5%| 335M/639M [01:10<01:03, 4.78MB/s]\u001b[A\n",
      "https://public.ukp.informatik.tu-darmstadt.de/thakur/BEIR/datasets/dbpedia-entity.zip: 52.5%| 336M/639M [01:10<01:03, 4.77MB/s]\u001b[A\n",
      "https://public.ukp.informatik.tu-darmstadt.de/thakur/BEIR/datasets/dbpedia-entity.zip: 52.5%| 336M/639M [01:10<01:03, 4.76MB/s]\u001b[A\n",
      "https://public.ukp.informatik.tu-darmstadt.de/thakur/BEIR/datasets/dbpedia-entity.zip: 52.5%| 336M/639M [01:10<01:03, 4.76MB/s]\u001b[A\n",
      "https://public.ukp.informatik.tu-darmstadt.de/thakur/BEIR/datasets/dbpedia-entity.zip: 52.5%| 336M/639M [01:10<01:03, 4.75MB/s]\u001b[A\n",
      "https://public.ukp.informatik.tu-darmstadt.de/thakur/BEIR/datasets/dbpedia-entity.zip: 52.5%| 336M/639M [01:10<01:04, 4.73MB/s]\u001b[A\n",
      "https://public.ukp.informatik.tu-darmstadt.de/thakur/BEIR/datasets/dbpedia-entity.zip: 52.6%| 336M/639M [01:11<01:04, 4.72MB/s]\u001b[A\n",
      "https://public.ukp.informatik.tu-darmstadt.de/thakur/BEIR/datasets/dbpedia-entity.zip: 52.6%| 336M/639M [01:11<01:04, 4.71MB/s]\u001b[A\n",
      "https://public.ukp.informatik.tu-darmstadt.de/thakur/BEIR/datasets/dbpedia-entity.zip: 52.6%| 336M/639M [01:11<01:04, 4.71MB/s]\u001b[A\n",
      "https://public.ukp.informatik.tu-darmstadt.de/thakur/BEIR/datasets/dbpedia-entity.zip: 52.6%| 336M/639M [01:11<01:04, 4.70MB/s]\u001b[A\n",
      "https://public.ukp.informatik.tu-darmstadt.de/thakur/BEIR/datasets/dbpedia-entity.zip: 52.6%| 336M/639M [01:11<01:04, 4.69MB/s]\u001b[A\n",
      "https://public.ukp.informatik.tu-darmstadt.de/thakur/BEIR/datasets/dbpedia-entity.zip: 52.6%| 336M/639M [01:11<01:04, 4.68MB/s]\u001b[A\n",
      "https://public.ukp.informatik.tu-darmstadt.de/thakur/BEIR/datasets/dbpedia-entity.zip: 52.7%| 337M/639M [01:12<01:04, 4.67MB/s]\u001b[A\n",
      "https://public.ukp.informatik.tu-darmstadt.de/thakur/BEIR/datasets/dbpedia-entity.zip: 52.7%| 337M/639M [01:12<01:04, 4.67MB/s]\u001b[A\n",
      "https://public.ukp.informatik.tu-darmstadt.de/thakur/BEIR/datasets/dbpedia-entity.zip: 52.7%| 337M/639M [01:12<01:04, 4.66MB/s]\u001b[A\n",
      "https://public.ukp.informatik.tu-darmstadt.de/thakur/BEIR/datasets/dbpedia-entity.zip: 52.7%| 337M/639M [01:12<01:05, 4.65MB/s]\u001b[A\n",
      "https://public.ukp.informatik.tu-darmstadt.de/thakur/BEIR/datasets/dbpedia-entity.zip: 52.7%| 337M/639M [01:12<01:05, 4.64MB/s]\u001b[A\n",
      "https://public.ukp.informatik.tu-darmstadt.de/thakur/BEIR/datasets/dbpedia-entity.zip: 52.7%| 337M/639M [01:12<01:05, 4.63MB/s]\u001b[A\n",
      "https://public.ukp.informatik.tu-darmstadt.de/thakur/BEIR/datasets/dbpedia-entity.zip: 52.7%| 337M/639M [01:12<01:05, 4.63MB/s]\u001b[A\n",
      "https://public.ukp.informatik.tu-darmstadt.de/thakur/BEIR/datasets/dbpedia-entity.zip: 52.8%| 337M/639M [01:13<01:05, 4.62MB/s]\u001b[A\n",
      "https://public.ukp.informatik.tu-darmstadt.de/thakur/BEIR/datasets/dbpedia-entity.zip: 52.8%| 337M/639M [01:13<01:05, 4.61MB/s]\u001b[A\n",
      "https://public.ukp.informatik.tu-darmstadt.de/thakur/BEIR/datasets/dbpedia-entity.zip: 52.8%| 337M/639M [01:13<01:05, 4.61MB/s]\u001b[A\n",
      "https://public.ukp.informatik.tu-darmstadt.de/thakur/BEIR/datasets/dbpedia-entity.zip: 52.8%| 338M/639M [01:13<01:05, 4.60MB/s]\u001b[A\n",
      "https://public.ukp.informatik.tu-darmstadt.de/thakur/BEIR/datasets/dbpedia-entity.zip: 52.8%| 338M/639M [01:13<01:05, 4.59MB/s]\u001b[A\n",
      "https://public.ukp.informatik.tu-darmstadt.de/thakur/BEIR/datasets/dbpedia-entity.zip: 52.8%| 338M/639M [01:13<01:05, 4.58MB/s]\u001b[A\n",
      "https://public.ukp.informatik.tu-darmstadt.de/thakur/BEIR/datasets/dbpedia-entity.zip: 52.9%| 338M/639M [01:13<01:05, 4.58MB/s]\u001b[A\n",
      "https://public.ukp.informatik.tu-darmstadt.de/thakur/BEIR/datasets/dbpedia-entity.zip: 52.9%| 338M/639M [01:13<01:05, 4.57MB/s]\u001b[A\n",
      "https://public.ukp.informatik.tu-darmstadt.de/thakur/BEIR/datasets/dbpedia-entity.zip: 52.9%| 338M/639M [01:14<01:05, 4.56MB/s]\u001b[A\n",
      "https://public.ukp.informatik.tu-darmstadt.de/thakur/BEIR/datasets/dbpedia-entity.zip: 52.9%| 338M/639M [01:14<01:06, 4.56MB/s]\u001b[A\n",
      "https://public.ukp.informatik.tu-darmstadt.de/thakur/BEIR/datasets/dbpedia-entity.zip: 53.0%| 339M/639M [01:14<01:06, 4.55MB/s]\u001b[A\n",
      "https://public.ukp.informatik.tu-darmstadt.de/thakur/BEIR/datasets/dbpedia-entity.zip: 53.0%| 339M/639M [01:14<01:06, 4.54MB/s]\u001b[A\n",
      "https://public.ukp.informatik.tu-darmstadt.de/thakur/BEIR/datasets/dbpedia-entity.zip: 53.0%| 339M/639M [01:14<01:06, 4.54MB/s]\u001b[A\n",
      "https://public.ukp.informatik.tu-darmstadt.de/thakur/BEIR/datasets/dbpedia-entity.zip: 53.0%| 339M/639M [01:14<01:06, 4.53MB/s]\u001b[A\n",
      "https://public.ukp.informatik.tu-darmstadt.de/thakur/BEIR/datasets/dbpedia-entity.zip: 53.1%| 339M/639M [01:14<01:06, 4.52MB/s]\u001b[A\n",
      "https://public.ukp.informatik.tu-darmstadt.de/thakur/BEIR/datasets/dbpedia-entity.zip: 53.1%| 339M/639M [01:15<01:06, 4.52MB/s]\u001b[A\n",
      "https://public.ukp.informatik.tu-darmstadt.de/thakur/BEIR/datasets/dbpedia-entity.zip: 53.1%| 340M/639M [01:15<01:06, 4.51MB/s]\u001b[A\n",
      "https://public.ukp.informatik.tu-darmstadt.de/thakur/BEIR/datasets/dbpedia-entity.zip: 53.1%| 340M/639M [01:15<01:06, 4.51MB/s]\u001b[A\n",
      "https://public.ukp.informatik.tu-darmstadt.de/thakur/BEIR/datasets/dbpedia-entity.zip: 53.2%| 340M/639M [01:15<01:06, 4.50MB/s]\u001b[A\n",
      "https://public.ukp.informatik.tu-darmstadt.de/thakur/BEIR/datasets/dbpedia-entity.zip: 53.2%| 340M/639M [01:15<01:06, 4.49MB/s]\u001b[A\n",
      "https://public.ukp.informatik.tu-darmstadt.de/thakur/BEIR/datasets/dbpedia-entity.zip: 53.3%| 340M/639M [01:15<01:06, 4.49MB/s]\u001b[A\n",
      "https://public.ukp.informatik.tu-darmstadt.de/thakur/BEIR/datasets/dbpedia-entity.zip: 53.3%| 341M/639M [01:15<01:06, 4.48MB/s]\u001b[A\n",
      "https://public.ukp.informatik.tu-darmstadt.de/thakur/BEIR/datasets/dbpedia-entity.zip: 53.3%| 341M/639M [01:16<01:06, 4.48MB/s]\u001b[A\n",
      "https://public.ukp.informatik.tu-darmstadt.de/thakur/BEIR/datasets/dbpedia-entity.zip: 53.4%| 341M/639M [01:16<01:06, 4.48MB/s]\u001b[A\n",
      "https://public.ukp.informatik.tu-darmstadt.de/thakur/BEIR/datasets/dbpedia-entity.zip: 53.4%| 341M/639M [01:16<01:06, 4.47MB/s]\u001b[A\n",
      "https://public.ukp.informatik.tu-darmstadt.de/thakur/BEIR/datasets/dbpedia-entity.zip: 53.4%| 342M/639M [01:16<01:06, 4.47MB/s]\u001b[A\n",
      "https://public.ukp.informatik.tu-darmstadt.de/thakur/BEIR/datasets/dbpedia-entity.zip: 53.5%| 342M/639M [01:16<01:06, 4.46MB/s]\u001b[A\n",
      "https://public.ukp.informatik.tu-darmstadt.de/thakur/BEIR/datasets/dbpedia-entity.zip: 53.5%| 342M/639M [01:16<01:06, 4.46MB/s]\u001b[A\n",
      "https://public.ukp.informatik.tu-darmstadt.de/thakur/BEIR/datasets/dbpedia-entity.zip: 53.6%| 343M/639M [01:16<01:06, 4.45MB/s]\u001b[A\n",
      "https://public.ukp.informatik.tu-darmstadt.de/thakur/BEIR/datasets/dbpedia-entity.zip: 53.6%| 343M/639M [01:17<01:06, 4.45MB/s]\u001b[A\n",
      "https://public.ukp.informatik.tu-darmstadt.de/thakur/BEIR/datasets/dbpedia-entity.zip: 53.7%| 343M/639M [01:17<01:06, 4.45MB/s]\u001b[A\n",
      "https://public.ukp.informatik.tu-darmstadt.de/thakur/BEIR/datasets/dbpedia-entity.zip: 53.8%| 344M/639M [01:17<01:06, 4.44MB/s]\u001b[A\n",
      "https://public.ukp.informatik.tu-darmstadt.de/thakur/BEIR/datasets/dbpedia-entity.zip: 53.8%| 344M/639M [01:17<01:06, 4.44MB/s]\u001b[A\n",
      "https://public.ukp.informatik.tu-darmstadt.de/thakur/BEIR/datasets/dbpedia-entity.zip: 53.9%| 344M/639M [01:17<01:06, 4.44MB/s]\u001b[A\n",
      "https://public.ukp.informatik.tu-darmstadt.de/thakur/BEIR/datasets/dbpedia-entity.zip: 53.9%| 345M/639M [01:17<01:06, 4.43MB/s]\u001b[A\n",
      "https://public.ukp.informatik.tu-darmstadt.de/thakur/BEIR/datasets/dbpedia-entity.zip: 54.0%| 345M/639M [01:17<01:06, 4.43MB/s]\u001b[A\n",
      "https://public.ukp.informatik.tu-darmstadt.de/thakur/BEIR/datasets/dbpedia-entity.zip: 54.1%| 346M/639M [01:18<01:06, 4.43MB/s]\u001b[A\n",
      "https://public.ukp.informatik.tu-darmstadt.de/thakur/BEIR/datasets/dbpedia-entity.zip: 54.1%| 346M/639M [01:18<01:06, 4.43MB/s]\u001b[A\n",
      "https://public.ukp.informatik.tu-darmstadt.de/thakur/BEIR/datasets/dbpedia-entity.zip: 54.2%| 347M/639M [01:18<01:06, 4.43MB/s]\u001b[A\n",
      "https://public.ukp.informatik.tu-darmstadt.de/thakur/BEIR/datasets/dbpedia-entity.zip: 54.3%| 347M/639M [01:18<01:06, 4.42MB/s]\u001b[A\n",
      "https://public.ukp.informatik.tu-darmstadt.de/thakur/BEIR/datasets/dbpedia-entity.zip: 54.3%| 347M/639M [01:18<01:05, 4.42MB/s]\u001b[A\n",
      "https://public.ukp.informatik.tu-darmstadt.de/thakur/BEIR/datasets/dbpedia-entity.zip: 54.4%| 348M/639M [01:18<01:05, 4.42MB/s]\u001b[A\n",
      "https://public.ukp.informatik.tu-darmstadt.de/thakur/BEIR/datasets/dbpedia-entity.zip: 54.5%| 348M/639M [01:18<01:05, 4.42MB/s]\u001b[A\n",
      "https://public.ukp.informatik.tu-darmstadt.de/thakur/BEIR/datasets/dbpedia-entity.zip: 54.6%| 349M/639M [01:18<01:05, 4.42MB/s]\u001b[A\n",
      "https://public.ukp.informatik.tu-darmstadt.de/thakur/BEIR/datasets/dbpedia-entity.zip: 54.6%| 349M/639M [01:19<01:05, 4.42MB/s]\u001b[A\n",
      "https://public.ukp.informatik.tu-darmstadt.de/thakur/BEIR/datasets/dbpedia-entity.zip: 54.7%| 350M/639M [01:19<01:05, 4.42MB/s]\u001b[A\n",
      "https://public.ukp.informatik.tu-darmstadt.de/thakur/BEIR/datasets/dbpedia-entity.zip: 54.8%| 350M/639M [01:19<01:05, 4.42MB/s]\u001b[A\n",
      "https://public.ukp.informatik.tu-darmstadt.de/thakur/BEIR/datasets/dbpedia-entity.zip: 54.9%| 351M/639M [01:19<01:05, 4.42MB/s]\u001b[A\n",
      "https://public.ukp.informatik.tu-darmstadt.de/thakur/BEIR/datasets/dbpedia-entity.zip: 55.0%| 352M/639M [01:19<01:05, 4.42MB/s]\u001b[A\n",
      "https://public.ukp.informatik.tu-darmstadt.de/thakur/BEIR/datasets/dbpedia-entity.zip: 55.1%| 352M/639M [01:19<01:04, 4.42MB/s]\u001b[A\n",
      "https://public.ukp.informatik.tu-darmstadt.de/thakur/BEIR/datasets/dbpedia-entity.zip: 55.2%| 353M/639M [01:19<01:04, 4.42MB/s]\u001b[A\n",
      "https://public.ukp.informatik.tu-darmstadt.de/thakur/BEIR/datasets/dbpedia-entity.zip: 55.3%| 353M/639M [01:19<01:04, 4.42MB/s]\u001b[A\n",
      "https://public.ukp.informatik.tu-darmstadt.de/thakur/BEIR/datasets/dbpedia-entity.zip: 55.4%| 354M/639M [01:20<01:04, 4.42MB/s]\u001b[A\n",
      "https://public.ukp.informatik.tu-darmstadt.de/thakur/BEIR/datasets/dbpedia-entity.zip: 55.5%| 355M/639M [01:20<01:04, 4.42MB/s]\u001b[A\n",
      "https://public.ukp.informatik.tu-darmstadt.de/thakur/BEIR/datasets/dbpedia-entity.zip: 55.6%| 355M/639M [01:25<01:08, 4.13MB/s]\u001b[A\n",
      "https://public.ukp.informatik.tu-darmstadt.de/thakur/BEIR/datasets/dbpedia-entity.zip: 55.7%| 356M/639M [01:26<01:08, 4.12MB/s]\u001b[A\n",
      "https://public.ukp.informatik.tu-darmstadt.de/thakur/BEIR/datasets/dbpedia-entity.zip: 55.8%| 357M/639M [01:26<01:08, 4.11MB/s]\u001b[A\n",
      "https://public.ukp.informatik.tu-darmstadt.de/thakur/BEIR/datasets/dbpedia-entity.zip: 55.9%| 357M/639M [01:27<01:08, 4.10MB/s]\u001b[A\n",
      "https://public.ukp.informatik.tu-darmstadt.de/thakur/BEIR/datasets/dbpedia-entity.zip: 56.0%| 358M/639M [01:27<01:08, 4.09MB/s]\u001b[A\n",
      "https://public.ukp.informatik.tu-darmstadt.de/thakur/BEIR/datasets/dbpedia-entity.zip: 56.1%| 359M/639M [01:27<01:08, 4.09MB/s]\u001b[A\n",
      "https://public.ukp.informatik.tu-darmstadt.de/thakur/BEIR/datasets/dbpedia-entity.zip: 56.2%| 359M/639M [01:27<01:08, 4.09MB/s]\u001b[A\n",
      "https://public.ukp.informatik.tu-darmstadt.de/thakur/BEIR/datasets/dbpedia-entity.zip: 56.3%| 360M/639M [01:28<01:08, 4.08MB/s]\u001b[A\n",
      "https://public.ukp.informatik.tu-darmstadt.de/thakur/BEIR/datasets/dbpedia-entity.zip: 56.4%| 360M/639M [01:28<01:08, 4.08MB/s]\u001b[A\n",
      "https://public.ukp.informatik.tu-darmstadt.de/thakur/BEIR/datasets/dbpedia-entity.zip: 56.5%| 361M/639M [01:32<01:10, 3.92MB/s]\u001b[A\n",
      "https://public.ukp.informatik.tu-darmstadt.de/thakur/BEIR/datasets/dbpedia-entity.zip: 56.6%| 362M/639M [01:32<01:10, 3.91MB/s]\u001b[A\n",
      "https://public.ukp.informatik.tu-darmstadt.de/thakur/BEIR/datasets/dbpedia-entity.zip: 56.7%| 362M/639M [01:32<01:10, 3.91MB/s]\u001b[A\n",
      "https://public.ukp.informatik.tu-darmstadt.de/thakur/BEIR/datasets/dbpedia-entity.zip: 56.8%| 363M/639M [01:33<01:10, 3.90MB/s]\u001b[A\n",
      "https://public.ukp.informatik.tu-darmstadt.de/thakur/BEIR/datasets/dbpedia-entity.zip: 56.9%| 364M/639M [01:33<01:10, 3.90MB/s]\u001b[A\n",
      "https://public.ukp.informatik.tu-darmstadt.de/thakur/BEIR/datasets/dbpedia-entity.zip: 57.0%| 364M/639M [01:33<01:10, 3.90MB/s]\u001b[A\n",
      "https://public.ukp.informatik.tu-darmstadt.de/thakur/BEIR/datasets/dbpedia-entity.zip: 57.1%| 365M/639M [01:33<01:10, 3.89MB/s]\u001b[A\n",
      "https://public.ukp.informatik.tu-darmstadt.de/thakur/BEIR/datasets/dbpedia-entity.zip: 57.2%| 366M/639M [01:33<01:10, 3.89MB/s]\u001b[A\n",
      "https://public.ukp.informatik.tu-darmstadt.de/thakur/BEIR/datasets/dbpedia-entity.zip: 57.3%| 366M/639M [01:34<01:10, 3.89MB/s]\u001b[A\n",
      "https://public.ukp.informatik.tu-darmstadt.de/thakur/BEIR/datasets/dbpedia-entity.zip: 57.4%| 367M/639M [01:34<01:10, 3.89MB/s]\u001b[A\n",
      "https://public.ukp.informatik.tu-darmstadt.de/thakur/BEIR/datasets/dbpedia-entity.zip: 57.5%| 368M/639M [01:34<01:09, 3.88MB/s]\u001b[A\n",
      "https://public.ukp.informatik.tu-darmstadt.de/thakur/BEIR/datasets/dbpedia-entity.zip: 57.6%| 368M/639M [01:34<01:09, 3.89MB/s]\u001b[A\n",
      "https://public.ukp.informatik.tu-darmstadt.de/thakur/BEIR/datasets/dbpedia-entity.zip: 57.7%| 369M/639M [01:35<01:09, 3.88MB/s]\u001b[A\n",
      "https://public.ukp.informatik.tu-darmstadt.de/thakur/BEIR/datasets/dbpedia-entity.zip: 57.8%| 369M/639M [01:35<01:09, 3.88MB/s]\u001b[A\n",
      "https://public.ukp.informatik.tu-darmstadt.de/thakur/BEIR/datasets/dbpedia-entity.zip: 57.9%| 370M/639M [01:35<01:09, 3.88MB/s]\u001b[A\n",
      "https://public.ukp.informatik.tu-darmstadt.de/thakur/BEIR/datasets/dbpedia-entity.zip: 58.0%| 371M/639M [01:36<01:09, 3.86MB/s]\u001b[A\n",
      "https://public.ukp.informatik.tu-darmstadt.de/thakur/BEIR/datasets/dbpedia-entity.zip: 58.1%| 371M/639M [01:36<01:09, 3.84MB/s]\u001b[A\n",
      "https://public.ukp.informatik.tu-darmstadt.de/thakur/BEIR/datasets/dbpedia-entity.zip: 58.2%| 372M/639M [01:43<01:14, 3.61MB/s]\u001b[A\n",
      "https://public.ukp.informatik.tu-darmstadt.de/thakur/BEIR/datasets/dbpedia-entity.zip: 58.3%| 373M/639M [01:45<01:15, 3.54MB/s]\u001b[A\n",
      "https://public.ukp.informatik.tu-darmstadt.de/thakur/BEIR/datasets/dbpedia-entity.zip: 58.4%| 373M/639M [01:46<01:15, 3.51MB/s]\u001b[A\n",
      "https://public.ukp.informatik.tu-darmstadt.de/thakur/BEIR/datasets/dbpedia-entity.zip: 58.5%| 374M/639M [01:47<01:15, 3.49MB/s]\u001b[A\n",
      "https://public.ukp.informatik.tu-darmstadt.de/thakur/BEIR/datasets/dbpedia-entity.zip: 58.6%| 375M/639M [01:47<01:16, 3.48MB/s]\u001b[A\n",
      "https://public.ukp.informatik.tu-darmstadt.de/thakur/BEIR/datasets/dbpedia-entity.zip: 58.7%| 375M/639M [01:48<01:16, 3.47MB/s]\u001b[A\n",
      "https://public.ukp.informatik.tu-darmstadt.de/thakur/BEIR/datasets/dbpedia-entity.zip: 58.8%| 376M/639M [01:48<01:15, 3.47MB/s]\u001b[A\n",
      "https://public.ukp.informatik.tu-darmstadt.de/thakur/BEIR/datasets/dbpedia-entity.zip: 58.9%| 376M/639M [01:48<01:15, 3.46MB/s]\u001b[A\n",
      "https://public.ukp.informatik.tu-darmstadt.de/thakur/BEIR/datasets/dbpedia-entity.zip: 59.0%| 377M/639M [01:49<01:15, 3.46MB/s]\u001b[A\n",
      "https://public.ukp.informatik.tu-darmstadt.de/thakur/BEIR/datasets/dbpedia-entity.zip: 59.1%| 378M/639M [01:49<01:15, 3.46MB/s]\u001b[A\n",
      "https://public.ukp.informatik.tu-darmstadt.de/thakur/BEIR/datasets/dbpedia-entity.zip: 59.2%| 378M/639M [01:49<01:15, 3.46MB/s]\u001b[A\n",
      "https://public.ukp.informatik.tu-darmstadt.de/thakur/BEIR/datasets/dbpedia-entity.zip: 59.3%| 379M/639M [01:49<01:15, 3.45MB/s]\u001b[A\n",
      "https://public.ukp.informatik.tu-darmstadt.de/thakur/BEIR/datasets/dbpedia-entity.zip: 59.4%| 380M/639M [01:49<01:15, 3.46MB/s]\u001b[A\n",
      "https://public.ukp.informatik.tu-darmstadt.de/thakur/BEIR/datasets/dbpedia-entity.zip: 59.5%| 380M/639M [01:50<01:15, 3.45MB/s]\u001b[A\n",
      "https://public.ukp.informatik.tu-darmstadt.de/thakur/BEIR/datasets/dbpedia-entity.zip: 59.6%| 381M/639M [01:50<01:14, 3.45MB/s]\u001b[A\n",
      "https://public.ukp.informatik.tu-darmstadt.de/thakur/BEIR/datasets/dbpedia-entity.zip: 59.7%| 382M/639M [01:50<01:14, 3.45MB/s]\u001b[A\n",
      "https://public.ukp.informatik.tu-darmstadt.de/thakur/BEIR/datasets/dbpedia-entity.zip: 59.8%| 382M/639M [01:50<01:14, 3.46MB/s]\u001b[A\n",
      "https://public.ukp.informatik.tu-darmstadt.de/thakur/BEIR/datasets/dbpedia-entity.zip: 59.9%| 383M/639M [01:50<01:14, 3.46MB/s]\u001b[A\n",
      "https://public.ukp.informatik.tu-darmstadt.de/thakur/BEIR/datasets/dbpedia-entity.zip: 60.0%| 383M/639M [01:50<01:13, 3.46MB/s]\u001b[A\n",
      "https://public.ukp.informatik.tu-darmstadt.de/thakur/BEIR/datasets/dbpedia-entity.zip: 60.1%| 384M/639M [01:51<01:13, 3.46MB/s]\u001b[A\n",
      "https://public.ukp.informatik.tu-darmstadt.de/thakur/BEIR/datasets/dbpedia-entity.zip: 60.2%| 385M/639M [01:51<01:13, 3.46MB/s]\u001b[A\n",
      "https://public.ukp.informatik.tu-darmstadt.de/thakur/BEIR/datasets/dbpedia-entity.zip: 60.3%| 385M/639M [01:51<01:13, 3.46MB/s]\u001b[A\n",
      "https://public.ukp.informatik.tu-darmstadt.de/thakur/BEIR/datasets/dbpedia-entity.zip: 60.4%| 386M/639M [01:51<01:13, 3.46MB/s]\u001b[A\n",
      "https://public.ukp.informatik.tu-darmstadt.de/thakur/BEIR/datasets/dbpedia-entity.zip: 60.5%| 387M/639M [01:51<01:12, 3.47MB/s]\u001b[A\n",
      "https://public.ukp.informatik.tu-darmstadt.de/thakur/BEIR/datasets/dbpedia-entity.zip: 60.6%| 387M/639M [01:51<01:12, 3.47MB/s]\u001b[A\n",
      "https://public.ukp.informatik.tu-darmstadt.de/thakur/BEIR/datasets/dbpedia-entity.zip: 60.7%| 388M/639M [01:51<01:12, 3.47MB/s]\u001b[A\n",
      "https://public.ukp.informatik.tu-darmstadt.de/thakur/BEIR/datasets/dbpedia-entity.zip: 60.8%| 389M/639M [01:51<01:12, 3.47MB/s]\u001b[A\n",
      "https://public.ukp.informatik.tu-darmstadt.de/thakur/BEIR/datasets/dbpedia-entity.zip: 61.0%| 390M/639M [01:52<01:11, 3.48MB/s]\u001b[A\n",
      "https://public.ukp.informatik.tu-darmstadt.de/thakur/BEIR/datasets/dbpedia-entity.zip: 61.1%| 391M/639M [01:52<01:11, 3.48MB/s]\u001b[A\n",
      "https://public.ukp.informatik.tu-darmstadt.de/thakur/BEIR/datasets/dbpedia-entity.zip: 61.2%| 392M/639M [01:52<01:11, 3.49MB/s]\u001b[A\n",
      "https://public.ukp.informatik.tu-darmstadt.de/thakur/BEIR/datasets/dbpedia-entity.zip: 61.4%| 392M/639M [01:52<01:10, 3.49MB/s]\u001b[A\n",
      "https://public.ukp.informatik.tu-darmstadt.de/thakur/BEIR/datasets/dbpedia-entity.zip: 61.5%| 393M/639M [01:52<01:10, 3.49MB/s]\u001b[A\n",
      "https://public.ukp.informatik.tu-darmstadt.de/thakur/BEIR/datasets/dbpedia-entity.zip: 61.7%| 394M/639M [01:52<01:10, 3.50MB/s]\u001b[A\n",
      "https://public.ukp.informatik.tu-darmstadt.de/thakur/BEIR/datasets/dbpedia-entity.zip: 61.8%| 395M/639M [01:52<01:09, 3.50MB/s]\u001b[A\n",
      "https://public.ukp.informatik.tu-darmstadt.de/thakur/BEIR/datasets/dbpedia-entity.zip: 62.0%| 396M/639M [01:52<01:09, 3.51MB/s]\u001b[A\n",
      "https://public.ukp.informatik.tu-darmstadt.de/thakur/BEIR/datasets/dbpedia-entity.zip: 62.2%| 397M/639M [01:53<01:08, 3.52MB/s]\u001b[A\n",
      "https://public.ukp.informatik.tu-darmstadt.de/thakur/BEIR/datasets/dbpedia-entity.zip: 62.3%| 398M/639M [01:53<01:08, 3.52MB/s]\u001b[A\n",
      "https://public.ukp.informatik.tu-darmstadt.de/thakur/BEIR/datasets/dbpedia-entity.zip: 62.5%| 400M/639M [01:53<01:07, 3.53MB/s]\u001b[A\n",
      "https://public.ukp.informatik.tu-darmstadt.de/thakur/BEIR/datasets/dbpedia-entity.zip: 62.7%| 401M/639M [01:53<01:07, 3.53MB/s]\u001b[A\n",
      "https://public.ukp.informatik.tu-darmstadt.de/thakur/BEIR/datasets/dbpedia-entity.zip: 62.9%| 402M/639M [01:53<01:06, 3.54MB/s]\u001b[A\n",
      "https://public.ukp.informatik.tu-darmstadt.de/thakur/BEIR/datasets/dbpedia-entity.zip: 63.1%| 403M/639M [01:53<01:06, 3.55MB/s]\u001b[A\n",
      "https://public.ukp.informatik.tu-darmstadt.de/thakur/BEIR/datasets/dbpedia-entity.zip: 63.3%| 405M/639M [01:53<01:05, 3.56MB/s]\u001b[A\n",
      "https://public.ukp.informatik.tu-darmstadt.de/thakur/BEIR/datasets/dbpedia-entity.zip: 63.5%| 406M/639M [01:53<01:05, 3.57MB/s]\u001b[A\n",
      "https://public.ukp.informatik.tu-darmstadt.de/thakur/BEIR/datasets/dbpedia-entity.zip: 63.8%| 408M/639M [01:54<01:04, 3.58MB/s]\u001b[A\n",
      "https://public.ukp.informatik.tu-darmstadt.de/thakur/BEIR/datasets/dbpedia-entity.zip: 64.0%| 409M/639M [01:54<01:04, 3.58MB/s]\u001b[A\n",
      "https://public.ukp.informatik.tu-darmstadt.de/thakur/BEIR/datasets/dbpedia-entity.zip: 64.3%| 411M/639M [01:54<01:03, 3.60MB/s]\u001b[A\n",
      "https://public.ukp.informatik.tu-darmstadt.de/thakur/BEIR/datasets/dbpedia-entity.zip: 64.5%| 412M/639M [01:54<01:03, 3.60MB/s]\u001b[A\n",
      "https://public.ukp.informatik.tu-darmstadt.de/thakur/BEIR/datasets/dbpedia-entity.zip: 64.9%| 415M/639M [01:54<01:02, 3.62MB/s]\u001b[A\n",
      "https://public.ukp.informatik.tu-darmstadt.de/thakur/BEIR/datasets/dbpedia-entity.zip: 65.2%| 417M/639M [01:54<01:01, 3.63MB/s]\u001b[A\n",
      "https://public.ukp.informatik.tu-darmstadt.de/thakur/BEIR/datasets/dbpedia-entity.zip: 65.5%| 419M/639M [01:55<01:00, 3.64MB/s]\u001b[A\n",
      "https://public.ukp.informatik.tu-darmstadt.de/thakur/BEIR/datasets/dbpedia-entity.zip: 65.9%| 421M/639M [01:55<00:59, 3.65MB/s]\u001b[A\n",
      "https://public.ukp.informatik.tu-darmstadt.de/thakur/BEIR/datasets/dbpedia-entity.zip: 66.2%| 423M/639M [01:55<00:58, 3.67MB/s]\u001b[A\n",
      "https://public.ukp.informatik.tu-darmstadt.de/thakur/BEIR/datasets/dbpedia-entity.zip: 66.6%| 426M/639M [01:55<00:58, 3.68MB/s]\u001b[A\n",
      "https://public.ukp.informatik.tu-darmstadt.de/thakur/BEIR/datasets/dbpedia-entity.zip: 66.9%| 428M/639M [01:55<00:57, 3.69MB/s]\u001b[A\n",
      "https://public.ukp.informatik.tu-darmstadt.de/thakur/BEIR/datasets/dbpedia-entity.zip: 67.3%| 430M/639M [01:56<00:56, 3.70MB/s]\u001b[A\n",
      "https://public.ukp.informatik.tu-darmstadt.de/thakur/BEIR/datasets/dbpedia-entity.zip: 67.6%| 432M/639M [01:56<00:55, 3.71MB/s]\u001b[A\n",
      "https://public.ukp.informatik.tu-darmstadt.de/thakur/BEIR/datasets/dbpedia-entity.zip: 67.9%| 434M/639M [01:56<00:55, 3.72MB/s]\u001b[A\n",
      "https://public.ukp.informatik.tu-darmstadt.de/thakur/BEIR/datasets/dbpedia-entity.zip: 68.3%| 437M/639M [01:56<00:54, 3.73MB/s]\u001b[A\n",
      "https://public.ukp.informatik.tu-darmstadt.de/thakur/BEIR/datasets/dbpedia-entity.zip: 68.6%| 439M/639M [01:57<00:53, 3.74MB/s]\u001b[A\n",
      "https://public.ukp.informatik.tu-darmstadt.de/thakur/BEIR/datasets/dbpedia-entity.zip: 69.0%| 441M/639M [01:57<00:52, 3.75MB/s]\u001b[A\n",
      "https://public.ukp.informatik.tu-darmstadt.de/thakur/BEIR/datasets/dbpedia-entity.zip: 69.3%| 443M/639M [01:57<00:52, 3.76MB/s]\u001b[A\n",
      "https://public.ukp.informatik.tu-darmstadt.de/thakur/BEIR/datasets/dbpedia-entity.zip: 69.7%| 445M/639M [01:58<00:51, 3.77MB/s]\u001b[A\n",
      "https://public.ukp.informatik.tu-darmstadt.de/thakur/BEIR/datasets/dbpedia-entity.zip: 70.0%| 448M/639M [01:58<00:50, 3.78MB/s]\u001b[A\n",
      "https://public.ukp.informatik.tu-darmstadt.de/thakur/BEIR/datasets/dbpedia-entity.zip: 70.4%| 450M/639M [01:58<00:49, 3.79MB/s]\u001b[A\n",
      "https://public.ukp.informatik.tu-darmstadt.de/thakur/BEIR/datasets/dbpedia-entity.zip: 70.7%| 452M/639M [01:58<00:49, 3.81MB/s]\u001b[A\n",
      "https://public.ukp.informatik.tu-darmstadt.de/thakur/BEIR/datasets/dbpedia-entity.zip: 71.0%| 454M/639M [01:58<00:48, 3.82MB/s]\u001b[A\n",
      "https://public.ukp.informatik.tu-darmstadt.de/thakur/BEIR/datasets/dbpedia-entity.zip: 71.4%| 456M/639M [01:59<00:47, 3.83MB/s]\u001b[A\n",
      "https://public.ukp.informatik.tu-darmstadt.de/thakur/BEIR/datasets/dbpedia-entity.zip: 71.7%| 459M/639M [01:59<00:47, 3.84MB/s]\u001b[A\n",
      "https://public.ukp.informatik.tu-darmstadt.de/thakur/BEIR/datasets/dbpedia-entity.zip: 72.1%| 461M/639M [01:59<00:46, 3.85MB/s]\u001b[A\n",
      "https://public.ukp.informatik.tu-darmstadt.de/thakur/BEIR/datasets/dbpedia-entity.zip: 72.4%| 463M/639M [01:59<00:45, 3.86MB/s]\u001b[A\n",
      "https://public.ukp.informatik.tu-darmstadt.de/thakur/BEIR/datasets/dbpedia-entity.zip: 72.8%| 465M/639M [02:00<00:44, 3.87MB/s]\u001b[A\n",
      "https://public.ukp.informatik.tu-darmstadt.de/thakur/BEIR/datasets/dbpedia-entity.zip: 73.1%| 467M/639M [02:00<00:44, 3.88MB/s]\u001b[A\n",
      "https://public.ukp.informatik.tu-darmstadt.de/thakur/BEIR/datasets/dbpedia-entity.zip: 73.4%| 469M/639M [02:00<00:43, 3.89MB/s]\u001b[A\n",
      "https://public.ukp.informatik.tu-darmstadt.de/thakur/BEIR/datasets/dbpedia-entity.zip: 73.8%| 472M/639M [02:00<00:42, 3.90MB/s]\u001b[A\n",
      "https://public.ukp.informatik.tu-darmstadt.de/thakur/BEIR/datasets/dbpedia-entity.zip: 74.1%| 474M/639M [02:01<00:42, 3.91MB/s]\u001b[A\n",
      "https://public.ukp.informatik.tu-darmstadt.de/thakur/BEIR/datasets/dbpedia-entity.zip: 74.5%| 476M/639M [02:01<00:41, 3.93MB/s]\u001b[A\n",
      "https://public.ukp.informatik.tu-darmstadt.de/thakur/BEIR/datasets/dbpedia-entity.zip: 74.8%| 478M/639M [02:01<00:40, 3.93MB/s]\u001b[A\n",
      "https://public.ukp.informatik.tu-darmstadt.de/thakur/BEIR/datasets/dbpedia-entity.zip: 75.2%| 480M/639M [02:01<00:40, 3.94MB/s]\u001b[A\n",
      "https://public.ukp.informatik.tu-darmstadt.de/thakur/BEIR/datasets/dbpedia-entity.zip: 75.5%| 483M/639M [02:01<00:39, 3.96MB/s]\u001b[A\n",
      "https://public.ukp.informatik.tu-darmstadt.de/thakur/BEIR/datasets/dbpedia-entity.zip: 75.8%| 485M/639M [02:02<00:38, 3.97MB/s]\u001b[A\n",
      "https://public.ukp.informatik.tu-darmstadt.de/thakur/BEIR/datasets/dbpedia-entity.zip: 76.2%| 487M/639M [02:02<00:38, 3.98MB/s]\u001b[A\n",
      "https://public.ukp.informatik.tu-darmstadt.de/thakur/BEIR/datasets/dbpedia-entity.zip: 76.5%| 489M/639M [02:02<00:37, 3.99MB/s]\u001b[A\n",
      "https://public.ukp.informatik.tu-darmstadt.de/thakur/BEIR/datasets/dbpedia-entity.zip: 76.9%| 491M/639M [02:02<00:36, 4.00MB/s]\u001b[A\n",
      "https://public.ukp.informatik.tu-darmstadt.de/thakur/BEIR/datasets/dbpedia-entity.zip: 77.2%| 494M/639M [02:03<00:36, 4.01MB/s]\u001b[A\n",
      "https://public.ukp.informatik.tu-darmstadt.de/thakur/BEIR/datasets/dbpedia-entity.zip: 77.6%| 496M/639M [02:03<00:35, 4.02MB/s]\u001b[A\n",
      "https://public.ukp.informatik.tu-darmstadt.de/thakur/BEIR/datasets/dbpedia-entity.zip: 77.9%| 498M/639M [02:03<00:35, 4.03MB/s]\u001b[A\n",
      "https://public.ukp.informatik.tu-darmstadt.de/thakur/BEIR/datasets/dbpedia-entity.zip: 78.2%| 500M/639M [02:03<00:34, 4.04MB/s]\u001b[A\n",
      "https://public.ukp.informatik.tu-darmstadt.de/thakur/BEIR/datasets/dbpedia-entity.zip: 78.6%| 502M/639M [02:04<00:33, 4.05MB/s]\u001b[A\n",
      "https://public.ukp.informatik.tu-darmstadt.de/thakur/BEIR/datasets/dbpedia-entity.zip: 78.9%| 505M/639M [02:04<00:33, 4.06MB/s]\u001b[A\n",
      "https://public.ukp.informatik.tu-darmstadt.de/thakur/BEIR/datasets/dbpedia-entity.zip: 79.3%| 507M/639M [02:04<00:32, 4.07MB/s]\u001b[A\n",
      "https://public.ukp.informatik.tu-darmstadt.de/thakur/BEIR/datasets/dbpedia-entity.zip: 79.6%| 509M/639M [02:04<00:31, 4.08MB/s]\u001b[A\n",
      "https://public.ukp.informatik.tu-darmstadt.de/thakur/BEIR/datasets/dbpedia-entity.zip: 80.0%| 511M/639M [02:04<00:31, 4.09MB/s]\u001b[A\n",
      "https://public.ukp.informatik.tu-darmstadt.de/thakur/BEIR/datasets/dbpedia-entity.zip: 80.3%| 513M/639M [02:05<00:30, 4.10MB/s]\u001b[A\n",
      "https://public.ukp.informatik.tu-darmstadt.de/thakur/BEIR/datasets/dbpedia-entity.zip: 80.7%| 516M/639M [02:05<00:30, 4.11MB/s]\u001b[A\n",
      "https://public.ukp.informatik.tu-darmstadt.de/thakur/BEIR/datasets/dbpedia-entity.zip: 81.0%| 518M/639M [02:05<00:29, 4.12MB/s]\u001b[A\n",
      "https://public.ukp.informatik.tu-darmstadt.de/thakur/BEIR/datasets/dbpedia-entity.zip: 81.3%| 520M/639M [02:05<00:28, 4.13MB/s]\u001b[A\n",
      "https://public.ukp.informatik.tu-darmstadt.de/thakur/BEIR/datasets/dbpedia-entity.zip: 81.7%| 522M/639M [02:06<00:28, 4.14MB/s]\u001b[A\n",
      "https://public.ukp.informatik.tu-darmstadt.de/thakur/BEIR/datasets/dbpedia-entity.zip: 82.0%| 524M/639M [02:06<00:27, 4.15MB/s]\u001b[A\n",
      "https://public.ukp.informatik.tu-darmstadt.de/thakur/BEIR/datasets/dbpedia-entity.zip: 82.4%| 527M/639M [02:06<00:27, 4.16MB/s]\u001b[A\n",
      "https://public.ukp.informatik.tu-darmstadt.de/thakur/BEIR/datasets/dbpedia-entity.zip: 82.7%| 529M/639M [02:06<00:26, 4.17MB/s]\u001b[A\n",
      "https://public.ukp.informatik.tu-darmstadt.de/thakur/BEIR/datasets/dbpedia-entity.zip: 83.1%| 531M/639M [02:07<00:25, 4.18MB/s]\u001b[A\n",
      "https://public.ukp.informatik.tu-darmstadt.de/thakur/BEIR/datasets/dbpedia-entity.zip: 83.4%| 533M/639M [02:07<00:25, 4.19MB/s]\u001b[A\n",
      "https://public.ukp.informatik.tu-darmstadt.de/thakur/BEIR/datasets/dbpedia-entity.zip: 83.7%| 535M/639M [02:07<00:24, 4.20MB/s]\u001b[A\n",
      "https://public.ukp.informatik.tu-darmstadt.de/thakur/BEIR/datasets/dbpedia-entity.zip: 84.1%| 538M/639M [02:07<00:24, 4.21MB/s]\u001b[A\n",
      "https://public.ukp.informatik.tu-darmstadt.de/thakur/BEIR/datasets/dbpedia-entity.zip: 84.4%| 540M/639M [02:07<00:23, 4.22MB/s]\u001b[A\n",
      "https://public.ukp.informatik.tu-darmstadt.de/thakur/BEIR/datasets/dbpedia-entity.zip: 84.8%| 542M/639M [02:08<00:23, 4.23MB/s]\u001b[A\n",
      "https://public.ukp.informatik.tu-darmstadt.de/thakur/BEIR/datasets/dbpedia-entity.zip: 85.1%| 544M/639M [02:08<00:22, 4.24MB/s]\u001b[A\n",
      "https://public.ukp.informatik.tu-darmstadt.de/thakur/BEIR/datasets/dbpedia-entity.zip: 85.5%| 546M/639M [02:08<00:21, 4.25MB/s]\u001b[A\n",
      "https://public.ukp.informatik.tu-darmstadt.de/thakur/BEIR/datasets/dbpedia-entity.zip: 85.8%| 549M/639M [02:08<00:21, 4.26MB/s]\u001b[A\n",
      "https://public.ukp.informatik.tu-darmstadt.de/thakur/BEIR/datasets/dbpedia-entity.zip: 86.1%| 551M/639M [02:09<00:20, 4.27MB/s]\u001b[A\n",
      "https://public.ukp.informatik.tu-darmstadt.de/thakur/BEIR/datasets/dbpedia-entity.zip: 86.5%| 553M/639M [02:09<00:20, 4.28MB/s]\u001b[A\n",
      "https://public.ukp.informatik.tu-darmstadt.de/thakur/BEIR/datasets/dbpedia-entity.zip: 86.8%| 555M/639M [02:09<00:19, 4.29MB/s]\u001b[A\n",
      "https://public.ukp.informatik.tu-darmstadt.de/thakur/BEIR/datasets/dbpedia-entity.zip: 87.2%| 557M/639M [02:09<00:19, 4.30MB/s]\u001b[A\n",
      "https://public.ukp.informatik.tu-darmstadt.de/thakur/BEIR/datasets/dbpedia-entity.zip: 87.5%| 560M/639M [02:09<00:18, 4.31MB/s]\u001b[A\n",
      "https://public.ukp.informatik.tu-darmstadt.de/thakur/BEIR/datasets/dbpedia-entity.zip: 87.9%| 562M/639M [02:10<00:17, 4.32MB/s]\u001b[A\n",
      "https://public.ukp.informatik.tu-darmstadt.de/thakur/BEIR/datasets/dbpedia-entity.zip: 88.2%| 564M/639M [02:10<00:17, 4.33MB/s]\u001b[A\n",
      "https://public.ukp.informatik.tu-darmstadt.de/thakur/BEIR/datasets/dbpedia-entity.zip: 88.6%| 566M/639M [02:10<00:16, 4.34MB/s]\u001b[A\n",
      "https://public.ukp.informatik.tu-darmstadt.de/thakur/BEIR/datasets/dbpedia-entity.zip: 88.9%| 568M/639M [02:10<00:16, 4.35MB/s]\u001b[A\n",
      "https://public.ukp.informatik.tu-darmstadt.de/thakur/BEIR/datasets/dbpedia-entity.zip: 89.2%| 570M/639M [02:10<00:15, 4.36MB/s]\u001b[A\n",
      "https://public.ukp.informatik.tu-darmstadt.de/thakur/BEIR/datasets/dbpedia-entity.zip: 89.6%| 573M/639M [02:11<00:15, 4.37MB/s]\u001b[A\n",
      "https://public.ukp.informatik.tu-darmstadt.de/thakur/BEIR/datasets/dbpedia-entity.zip: 89.9%| 575M/639M [02:11<00:14, 4.38MB/s]\u001b[A\n",
      "https://public.ukp.informatik.tu-darmstadt.de/thakur/BEIR/datasets/dbpedia-entity.zip: 90.3%| 577M/639M [02:11<00:14, 4.39MB/s]\u001b[A\n",
      "https://public.ukp.informatik.tu-darmstadt.de/thakur/BEIR/datasets/dbpedia-entity.zip: 90.6%| 579M/639M [02:11<00:13, 4.40MB/s]\u001b[A\n",
      "https://public.ukp.informatik.tu-darmstadt.de/thakur/BEIR/datasets/dbpedia-entity.zip: 91.0%| 581M/639M [02:11<00:13, 4.41MB/s]\u001b[A\n",
      "https://public.ukp.informatik.tu-darmstadt.de/thakur/BEIR/datasets/dbpedia-entity.zip: 91.3%| 584M/639M [02:12<00:12, 4.42MB/s]\u001b[A\n",
      "https://public.ukp.informatik.tu-darmstadt.de/thakur/BEIR/datasets/dbpedia-entity.zip: 91.6%| 586M/639M [02:12<00:12, 4.43MB/s]\u001b[A\n",
      "https://public.ukp.informatik.tu-darmstadt.de/thakur/BEIR/datasets/dbpedia-entity.zip: 92.0%| 588M/639M [02:12<00:11, 4.44MB/s]\u001b[A\n",
      "https://public.ukp.informatik.tu-darmstadt.de/thakur/BEIR/datasets/dbpedia-entity.zip: 92.3%| 590M/639M [02:12<00:11, 4.44MB/s]\u001b[A\n",
      "https://public.ukp.informatik.tu-darmstadt.de/thakur/BEIR/datasets/dbpedia-entity.zip: 92.7%| 592M/639M [02:13<00:10, 4.45MB/s]\u001b[A\n",
      "https://public.ukp.informatik.tu-darmstadt.de/thakur/BEIR/datasets/dbpedia-entity.zip: 93.0%| 595M/639M [02:13<00:10, 4.46MB/s]\u001b[A\n",
      "https://public.ukp.informatik.tu-darmstadt.de/thakur/BEIR/datasets/dbpedia-entity.zip: 93.4%| 597M/639M [02:13<00:09, 4.47MB/s]\u001b[A\n",
      "https://public.ukp.informatik.tu-darmstadt.de/thakur/BEIR/datasets/dbpedia-entity.zip: 93.7%| 599M/639M [02:13<00:08, 4.48MB/s]\u001b[A\n",
      "https://public.ukp.informatik.tu-darmstadt.de/thakur/BEIR/datasets/dbpedia-entity.zip: 94.0%| 601M/639M [02:14<00:08, 4.48MB/s]\u001b[A\n",
      "https://public.ukp.informatik.tu-darmstadt.de/thakur/BEIR/datasets/dbpedia-entity.zip: 94.4%| 603M/639M [02:14<00:07, 4.49MB/s]\u001b[A\n",
      "https://public.ukp.informatik.tu-darmstadt.de/thakur/BEIR/datasets/dbpedia-entity.zip: 94.7%| 606M/639M [02:14<00:07, 4.50MB/s]\u001b[A\n",
      "https://public.ukp.informatik.tu-darmstadt.de/thakur/BEIR/datasets/dbpedia-entity.zip: 95.1%| 608M/639M [02:14<00:06, 4.50MB/s]\u001b[A\n",
      "https://public.ukp.informatik.tu-darmstadt.de/thakur/BEIR/datasets/dbpedia-entity.zip: 95.4%| 610M/639M [02:15<00:06, 4.51MB/s]\u001b[A\n",
      "https://public.ukp.informatik.tu-darmstadt.de/thakur/BEIR/datasets/dbpedia-entity.zip: 95.8%| 612M/639M [02:15<00:05, 4.52MB/s]\u001b[A\n",
      "https://public.ukp.informatik.tu-darmstadt.de/thakur/BEIR/datasets/dbpedia-entity.zip: 96.1%| 614M/639M [02:15<00:05, 4.52MB/s]\u001b[A\n",
      "https://public.ukp.informatik.tu-darmstadt.de/thakur/BEIR/datasets/dbpedia-entity.zip: 96.5%| 617M/639M [02:16<00:05, 4.53MB/s]\u001b[A\n",
      "https://public.ukp.informatik.tu-darmstadt.de/thakur/BEIR/datasets/dbpedia-entity.zip: 96.8%| 619M/639M [02:16<00:04, 4.54MB/s]\u001b[A\n",
      "https://public.ukp.informatik.tu-darmstadt.de/thakur/BEIR/datasets/dbpedia-entity.zip: 97.1%| 621M/639M [02:16<00:04, 4.54MB/s]\u001b[A\n",
      "https://public.ukp.informatik.tu-darmstadt.de/thakur/BEIR/datasets/dbpedia-entity.zip: 97.5%| 623M/639M [02:16<00:03, 4.55MB/s]\u001b[A\n",
      "https://public.ukp.informatik.tu-darmstadt.de/thakur/BEIR/datasets/dbpedia-entity.zip: 97.8%| 625M/639M [02:17<00:03, 4.56MB/s]\u001b[A\n",
      "https://public.ukp.informatik.tu-darmstadt.de/thakur/BEIR/datasets/dbpedia-entity.zip: 98.2%| 628M/639M [02:17<00:02, 4.57MB/s]\u001b[A\n",
      "https://public.ukp.informatik.tu-darmstadt.de/thakur/BEIR/datasets/dbpedia-entity.zip: 98.5%| 630M/639M [02:17<00:02, 4.57MB/s]\u001b[A\n",
      "https://public.ukp.informatik.tu-darmstadt.de/thakur/BEIR/datasets/dbpedia-entity.zip: 98.9%| 632M/639M [02:17<00:01, 4.58MB/s]\u001b[A\n",
      "https://public.ukp.informatik.tu-darmstadt.de/thakur/BEIR/datasets/dbpedia-entity.zip: 99.2%| 634M/639M [02:18<00:01, 4.59MB/s]\u001b[A\n",
      "https://public.ukp.informatik.tu-darmstadt.de/thakur/BEIR/datasets/dbpedia-entity.zip: 99.5%| 636M/639M [02:18<00:00, 4.59MB/s]\u001b[A\n",
      "\n",
      "\u001b[A[INFO] [finished] https://public.ukp.informatik.tu-darmstadt.de/thakur/BEIR/datasets/dbpedia-entity.zip: [02:18] [639MB] [4.60MB/s]\n",
      "docs_iter:   0%|                                   | 0/4635922 [02:19<?, ?doc/s]\n",
      "https://public.ukp.informatik.tu-darmstadt.de/thakur/BEIR/datasets/dbpedia-entity.zip: [02:18] [639MB] [4.60MB/s]\u001b[A\n",
      "[INFO] [finished] opening zip file [02:20]\n",
      "docs_iter: 100%|██████████████████| 4635922/4635922 [04:29<00:00, 17229.82doc/s]\n",
      "[INFO] [finished] docs_iter: [04:29] [4635922doc] [17229.63doc/s]\n",
      "[INFO] [finished] building docstore [04:29]\n"
     ]
    },
    {
     "name": "stdout",
     "output_type": "stream",
     "text": [
      "BeirTitleUrlDoc(doc_id='<dbpedia:Animalia_(book)>', text=\"Animalia is an illustrated children's book by Graeme Base. It was originally published in 1986, followed by a tenth anniversary edition in 1996, and a 25th anniversary edition in 2012. Over three million copies have been sold.   A special numbered and signed anniversary edition was also published in 1996, with an embossed gold jacket.\", title='Animalia (book)', url='<http://dbpedia.org/resource/Animalia_(book)>')\n"
     ]
    }
   ],
   "source": [
    "#our dataset\n",
    "import ir_datasets\n",
    "dataset=ir_datasets.load(\"beir/dbpedia-entity\")\n",
    "print(next(dataset.docs_iter()))"
   ]
  },
  {
   "cell_type": "code",
   "execution_count": null,
   "metadata": {
    "id": "Ioe_gJgRFBi8"
   },
   "outputs": [],
   "source": [
    "# profile function used at the labs\n",
    "import time\n",
    "def profile(f):\n",
    "    def f_timer(*args, **kwargs):\n",
    "        start = time.time()\n",
    "        result = f(*args, **kwargs)\n",
    "        end = time.time()\n",
    "        ms = (end - start) * 1000\n",
    "        print(f\"{f.__name__} ({ms:.3f} ms)\")\n",
    "        return result\n",
    "    return f_timer"
   ]
  },
  {
   "cell_type": "markdown",
   "metadata": {
    "id": "YQWn1rbQHZ6W"
   },
   "source": [
    "# Preprocessing\n",
    "\n",
    "In our code for the preprocessing, we made several optimizations to enhance efficiency and clarity for the creation of the index and the query processing:\n",
    "\n",
    "- **Preloading stopwords and stemmer**:  \n",
    "  - Stopwords and the stemmer are **preloaded** at the start of the script and made available as global variables.  \n",
    "  - This eliminates the need to reload or reprocess them each time a function is called, saving a **significant amount of time**.\n",
    "\n",
    "- **Precompiled regex patterns**:  \n",
    "  - We use **precompiled regular expressions** for frequent operations such as:\n",
    "    - **Normalizing special characters**\n",
    "    - **Handling punctuation**\n",
    "    - **Removing multiple white spaces**  \n",
    "  - This approach prevents regex patterns from being recompiled repeatedly, significantly improving performance.\n",
    "\n",
    "- **Combining operations**:  \n",
    "  - Key operations, like tokenization and punctuation removal, are handled in a **single step** using `re.split`.  \n",
    "  - Similarly, during token iteration, we perform **stopword removal** and **stemming** in one step, avoiding redundancy and speeding up the process.\n",
    "\n",
    "- **Efficient text cleaning**:  \n",
    "  - Instead of using slower iterative loops (e.g., `while \" \" in s`), we utilize **regex-based cleaning** to normalize and remove multiple white spaces in fewer steps.\n",
    "\n",
    "These choices demonstrate how our preprocessing pipeline is optimized for **speed, scalability, and clarity**.\n",
    "\n",
    "---\n",
    "\n",
    "## PyStemmer (Cython)\n",
    "\n",
    "The decision to use **PyStemmer** is a critical factor that gives us a **significant performance advantage**:\n",
    "\n",
    "- **Faster than NLTK PorterStemmer**:  \n",
    "  - PyStemmer is implemented in **Cython**, making it **much faster** than the NLTK PorterStemmer, which is written in pure Python.  \n",
    "  - **Performance Comparison**:  \n",
    "    - PyStemmer: Processes **1 million words in less than 2 seconds**.  \n",
    "    - NLTK PorterStemmer: Takes **12–15 seconds** for the same task.\n",
    "\n",
    "- **Key Benefits**:  \n",
    "  - Crucial for **large datasets** or tasks requiring repeated preprocessing (e.g., machine learning, document retrieval).  \n",
    "  - **Seamless integration**: PyStemmer is easy to use and fits naturally into our pipeline.\n",
    "\n",
    "In summary, using PyStemmer allows us to build a **faster, more scalable** pipeline, ready for **complex projects** without sacrificing usability.\n"
   ]
  },
  {
   "cell_type": "code",
   "execution_count": null,
   "metadata": {
    "id": "R0EUULd8FaoY"
   },
   "outputs": [],
   "source": [
    "import re\n",
    "import string\n",
    "import nltk\n",
    "import Stemmer  # PyStemmer\n",
    "\n",
    "# Preload resources\n",
    "nltk.download(\"stopwords\", quiet=True)\n",
    "STOPWORDS = set(nltk.corpus.stopwords.words(\"english\"))\n",
    "STEMMER = Stemmer.Stemmer(\"english\")\n",
    "\n",
    "# Precompile regex patterns\n",
    "SPECIAL_CHAR_PATTERN = re.compile(r\"[‘’´“”–-]\")  # Normalize special characters\n",
    "DOT_PATTERN = re.compile(r\"\\.(?!(\\S[^. ])|\\d)\")  # Remove dots except in decimals or abbreviations\n",
    "WHITESPACE_PATTERN = re.compile(r\"\\s+\")\n",
    "\n",
    "def preprocess(s):\n",
    "\n",
    "    # 1. Lowercase and normalize special characters\n",
    "    s = SPECIAL_CHAR_PATTERN.sub(\"'\", s.lower())\n",
    "    s = DOT_PATTERN.sub(\"\", s)\n",
    "\n",
    "    # 2. Tokenize and remove punctuation\n",
    "    tokens = re.split(r\"\\W+\", s)  # Alternative to str.translate for performance\n",
    "\n",
    "    # 3. Remove stopwords and stem tokens\n",
    "    tokens = [STEMMER.stemWord(t) for t in tokens if t and t not in STOPWORDS]\n",
    "\n",
    "    return tokens\n"
   ]
  },
  {
   "cell_type": "markdown",
   "metadata": {
    "id": "xx7qaV2FIZgn"
   },
   "source": [
    "# Building Index: Improvements\n",
    "\n",
    "In the improved version of `build_index`, several enhancements were made to address the limitations of the initial version:\n",
    "- **Inclusion of titles and text**:  \n",
    "  - Both the **title** (`doc.title`) and the **textual content** (`doc.text`) of each document are indexed.  \n",
    "  - This results in a **more comprehensive index**, though it increases size and construction time.\n",
    "\n",
    "- **Automatic document count**:  \n",
    "  - The total number of documents is calculated **beforehand** using a dataset function, removing the need for manual counter increments during the loop.\n",
    "\n",
    "- **Additional statistics**:  \n",
    "  - A new metric, **average document length**, is returned, providing essential context for ranking algorithms like BM25.\n",
    "\n",
    "- **Direct use of document IDs**:  \n",
    "  - Unlike the base version, where `doc.doc_id` was converted to a string, the improved version uses the ID **directly**, reducing unnecessary operations.\n",
    "\n",
    "---\n",
    "\n",
    "### Benefits of the Improved Version\n",
    "\n",
    "- **Richer Index**:  \n",
    "  - By incorporating titles, the index captures more information, potentially improving search and retrieval performance.\n",
    "\n",
    "- **Streamlined Workflow**:  \n",
    "  - Calculating the number of documents upfront simplifies the indexing process and minimizes manual operations.\n",
    "\n",
    "- **Better Metrics**:  \n",
    "  - Adding average document length enhances the usefulness of the index for ranking algorithms.  \n"
   ]
  },
  {
   "cell_type": "code",
   "execution_count": null,
   "metadata": {
    "id": "gUrEJe9GIYey"
   },
   "outputs": [],
   "source": [
    "from collections import Counter\n",
    "from tqdm.auto import tqdm\n",
    "\n",
    "@profile\n",
    "def build_index(dataset):\n",
    "    lexicon = {}\n",
    "    doc_index = []\n",
    "    inv_d, inv_f = {}, {}\n",
    "    termid = 0\n",
    "    total_dl = 0\n",
    "    total_toks = 0\n",
    "    for docid, doc in tqdm(enumerate(dataset.docs_iter()), desc='Indexing', total=dataset.docs_count()):\n",
    "        # combine title and text\n",
    "        tokens = preprocess(doc.title + doc.text)\n",
    "        token_tf = Counter(tokens)\n",
    "        doclen = len(tokens)\n",
    "        total_dl += doclen\n",
    "        doc_index.append((doc.doc_id, doclen))\n",
    "        for token, tf in token_tf.items():\n",
    "            if token not in lexicon:\n",
    "                lexicon[token] = [termid, 0, 0]\n",
    "                inv_d[termid] = []\n",
    "                inv_f[termid] = []\n",
    "                termid += 1\n",
    "\n",
    "            token_id = lexicon[token][0]\n",
    "            inv_d[token_id].append(docid)\n",
    "            inv_f[token_id].append(tf)\n",
    "            lexicon[token][1] += 1\n",
    "            lexicon[token][2] += tf\n",
    "\n",
    "    stats = {\n",
    "        # use only docid, not num_docs\n",
    "        \"num_docs\": 1 + docid,\n",
    "        \"num_terms\": len(lexicon),\n",
    "        \"num_tokens\": total_dl,\n",
    "        \"avg_length\": total_dl / (1 + docid)\n",
    "    }\n",
    "    return lexicon, {'docids': inv_d, 'freqs': inv_f}, doc_index, stats\n"
   ]
  },
  {
   "cell_type": "code",
   "execution_count": null,
   "metadata": {
    "colab": {
     "base_uri": "https://localhost:8080/",
     "height": 416,
     "referenced_widgets": [
      "44cb7a1ac99147d78ea7c00fe669e4a2",
      "0b29c592918c49a68b761cdc6e751f36",
      "81d31a2bbad14e3fb3a2c8ee10b4ddf5",
      "7a8581665d4242d4b97dd3985a58feab",
      "c0321cac8cc140aca12305cfb7fc2d31",
      "7400b53ffd6b42b0b945e6c419422d0a",
      "d6ba98aaae2c4b6bbc975fe0928fe718",
      "6772620f06cd418786cd41bba7c7c805",
      "ab3b0ab8d48e42e28358ff0730b5ccf2",
      "4c64b42775dc49cd8ca20da360835a7e",
      "682d98523cf64d93bc408787baca1575"
     ]
    },
    "executionInfo": {
     "elapsed": 6919,
     "status": "error",
     "timestamp": 1737551955705,
     "user": {
      "displayName": "Nicola Tonellotto",
      "userId": "17533833776178224794"
     },
     "user_tz": -60
    },
    "id": "XKmb-0MKIflE",
    "outputId": "84e6609d-7e14-4a89-d45b-4e78431a4c30"
   },
   "outputs": [
    {
     "data": {
      "application/vnd.jupyter.widget-view+json": {
       "model_id": "44cb7a1ac99147d78ea7c00fe669e4a2",
       "version_major": 2,
       "version_minor": 0
      },
      "text/plain": [
       "Indexing:   0%|          | 0/4635922 [00:00<?, ?it/s]"
      ]
     },
     "metadata": {},
     "output_type": "display_data"
    },
    {
     "name": "stderr",
     "output_type": "stream",
     "text": [
      "Exception ignored in: <function tqdm.__del__ at 0x78a696061ee0>\n",
      "Traceback (most recent call last):\n",
      "  File \"/usr/local/lib/python3.11/dist-packages/tqdm/std.py\", line 1147, in __del__\n",
      "    def __del__(self):\n",
      "\n",
      "KeyboardInterrupt: \n"
     ]
    },
    {
     "ename": "KeyboardInterrupt",
     "evalue": "",
     "output_type": "error",
     "traceback": [
      "\u001b[0;31m---------------------------------------------------------------------------\u001b[0m",
      "\u001b[0;31mKeyboardInterrupt\u001b[0m                         Traceback (most recent call last)",
      "\u001b[0;32m<ipython-input-9-3519f9991417>\u001b[0m in \u001b[0;36m<cell line: 0>\u001b[0;34m()\u001b[0m\n\u001b[0;32m----> 1\u001b[0;31m \u001b[0mlex\u001b[0m\u001b[0;34m,\u001b[0m \u001b[0minv\u001b[0m\u001b[0;34m,\u001b[0m \u001b[0mdoc\u001b[0m\u001b[0;34m,\u001b[0m \u001b[0mstats\u001b[0m \u001b[0;34m=\u001b[0m \u001b[0mbuild_index\u001b[0m\u001b[0;34m(\u001b[0m\u001b[0mdataset\u001b[0m\u001b[0;34m)\u001b[0m\u001b[0;34m\u001b[0m\u001b[0;34m\u001b[0m\u001b[0m\n\u001b[0m",
      "\u001b[0;32m<ipython-input-5-e3acb3e25d25>\u001b[0m in \u001b[0;36mf_timer\u001b[0;34m(*args, **kwargs)\u001b[0m\n\u001b[1;32m      4\u001b[0m     \u001b[0;32mdef\u001b[0m \u001b[0mf_timer\u001b[0m\u001b[0;34m(\u001b[0m\u001b[0;34m*\u001b[0m\u001b[0margs\u001b[0m\u001b[0;34m,\u001b[0m \u001b[0;34m**\u001b[0m\u001b[0mkwargs\u001b[0m\u001b[0;34m)\u001b[0m\u001b[0;34m:\u001b[0m\u001b[0;34m\u001b[0m\u001b[0;34m\u001b[0m\u001b[0m\n\u001b[1;32m      5\u001b[0m         \u001b[0mstart\u001b[0m \u001b[0;34m=\u001b[0m \u001b[0mtime\u001b[0m\u001b[0;34m.\u001b[0m\u001b[0mtime\u001b[0m\u001b[0;34m(\u001b[0m\u001b[0;34m)\u001b[0m\u001b[0;34m\u001b[0m\u001b[0;34m\u001b[0m\u001b[0m\n\u001b[0;32m----> 6\u001b[0;31m         \u001b[0mresult\u001b[0m \u001b[0;34m=\u001b[0m \u001b[0mf\u001b[0m\u001b[0;34m(\u001b[0m\u001b[0;34m*\u001b[0m\u001b[0margs\u001b[0m\u001b[0;34m,\u001b[0m \u001b[0;34m**\u001b[0m\u001b[0mkwargs\u001b[0m\u001b[0;34m)\u001b[0m\u001b[0;34m\u001b[0m\u001b[0;34m\u001b[0m\u001b[0m\n\u001b[0m\u001b[1;32m      7\u001b[0m         \u001b[0mend\u001b[0m \u001b[0;34m=\u001b[0m \u001b[0mtime\u001b[0m\u001b[0;34m.\u001b[0m\u001b[0mtime\u001b[0m\u001b[0;34m(\u001b[0m\u001b[0;34m)\u001b[0m\u001b[0;34m\u001b[0m\u001b[0;34m\u001b[0m\u001b[0m\n\u001b[1;32m      8\u001b[0m         \u001b[0mms\u001b[0m \u001b[0;34m=\u001b[0m \u001b[0;34m(\u001b[0m\u001b[0mend\u001b[0m \u001b[0;34m-\u001b[0m \u001b[0mstart\u001b[0m\u001b[0;34m)\u001b[0m \u001b[0;34m*\u001b[0m \u001b[0;36m1000\u001b[0m\u001b[0;34m\u001b[0m\u001b[0;34m\u001b[0m\u001b[0m\n",
      "\u001b[0;32m<ipython-input-7-9e5f1bf05999>\u001b[0m in \u001b[0;36mbuild_index\u001b[0;34m(dataset)\u001b[0m\n\u001b[1;32m     15\u001b[0m         \u001b[0;31m# combine title and text\u001b[0m\u001b[0;34m\u001b[0m\u001b[0;34m\u001b[0m\u001b[0m\n\u001b[1;32m     16\u001b[0m \u001b[0;34m\u001b[0m\u001b[0m\n\u001b[0;32m---> 17\u001b[0;31m         \u001b[0mtokens\u001b[0m \u001b[0;34m=\u001b[0m \u001b[0mpreprocess\u001b[0m\u001b[0;34m(\u001b[0m\u001b[0mdoc\u001b[0m\u001b[0;34m.\u001b[0m\u001b[0mtitle\u001b[0m \u001b[0;34m+\u001b[0m \u001b[0mdoc\u001b[0m\u001b[0;34m.\u001b[0m\u001b[0mtext\u001b[0m\u001b[0;34m)\u001b[0m\u001b[0;34m\u001b[0m\u001b[0;34m\u001b[0m\u001b[0m\n\u001b[0m\u001b[1;32m     18\u001b[0m         \u001b[0mtoken_tf\u001b[0m \u001b[0;34m=\u001b[0m \u001b[0mCounter\u001b[0m\u001b[0;34m(\u001b[0m\u001b[0mtokens\u001b[0m\u001b[0;34m)\u001b[0m\u001b[0;34m\u001b[0m\u001b[0;34m\u001b[0m\u001b[0m\n\u001b[1;32m     19\u001b[0m         \u001b[0mdoclen\u001b[0m \u001b[0;34m=\u001b[0m \u001b[0mlen\u001b[0m\u001b[0;34m(\u001b[0m\u001b[0mtokens\u001b[0m\u001b[0;34m)\u001b[0m\u001b[0;34m\u001b[0m\u001b[0;34m\u001b[0m\u001b[0m\n",
      "\u001b[0;32m<ipython-input-6-ca4f17b2f4e0>\u001b[0m in \u001b[0;36mpreprocess\u001b[0;34m(s)\u001b[0m\n\u001b[1;32m     24\u001b[0m \u001b[0;34m\u001b[0m\u001b[0m\n\u001b[1;32m     25\u001b[0m     \u001b[0;31m# 3. Remove stopwords and stem tokens\u001b[0m\u001b[0;34m\u001b[0m\u001b[0;34m\u001b[0m\u001b[0m\n\u001b[0;32m---> 26\u001b[0;31m     \u001b[0mtokens\u001b[0m \u001b[0;34m=\u001b[0m \u001b[0;34m[\u001b[0m\u001b[0mSTEMMER\u001b[0m\u001b[0;34m.\u001b[0m\u001b[0mstemWord\u001b[0m\u001b[0;34m(\u001b[0m\u001b[0mt\u001b[0m\u001b[0;34m)\u001b[0m \u001b[0;32mfor\u001b[0m \u001b[0mt\u001b[0m \u001b[0;32min\u001b[0m \u001b[0mtokens\u001b[0m \u001b[0;32mif\u001b[0m \u001b[0mt\u001b[0m \u001b[0;32mand\u001b[0m \u001b[0mt\u001b[0m \u001b[0;32mnot\u001b[0m \u001b[0;32min\u001b[0m \u001b[0mSTOPWORDS\u001b[0m\u001b[0;34m]\u001b[0m\u001b[0;34m\u001b[0m\u001b[0;34m\u001b[0m\u001b[0m\n\u001b[0m\u001b[1;32m     27\u001b[0m \u001b[0;34m\u001b[0m\u001b[0m\n\u001b[1;32m     28\u001b[0m     \u001b[0;32mreturn\u001b[0m \u001b[0mtokens\u001b[0m\u001b[0;34m\u001b[0m\u001b[0;34m\u001b[0m\u001b[0m\n",
      "\u001b[0;32m<ipython-input-6-ca4f17b2f4e0>\u001b[0m in \u001b[0;36m<listcomp>\u001b[0;34m(.0)\u001b[0m\n\u001b[1;32m     24\u001b[0m \u001b[0;34m\u001b[0m\u001b[0m\n\u001b[1;32m     25\u001b[0m     \u001b[0;31m# 3. Remove stopwords and stem tokens\u001b[0m\u001b[0;34m\u001b[0m\u001b[0;34m\u001b[0m\u001b[0m\n\u001b[0;32m---> 26\u001b[0;31m     \u001b[0mtokens\u001b[0m \u001b[0;34m=\u001b[0m \u001b[0;34m[\u001b[0m\u001b[0mSTEMMER\u001b[0m\u001b[0;34m.\u001b[0m\u001b[0mstemWord\u001b[0m\u001b[0;34m(\u001b[0m\u001b[0mt\u001b[0m\u001b[0;34m)\u001b[0m \u001b[0;32mfor\u001b[0m \u001b[0mt\u001b[0m \u001b[0;32min\u001b[0m \u001b[0mtokens\u001b[0m \u001b[0;32mif\u001b[0m \u001b[0mt\u001b[0m \u001b[0;32mand\u001b[0m \u001b[0mt\u001b[0m \u001b[0;32mnot\u001b[0m \u001b[0;32min\u001b[0m \u001b[0mSTOPWORDS\u001b[0m\u001b[0;34m]\u001b[0m\u001b[0;34m\u001b[0m\u001b[0;34m\u001b[0m\u001b[0m\n\u001b[0m\u001b[1;32m     27\u001b[0m \u001b[0;34m\u001b[0m\u001b[0m\n\u001b[1;32m     28\u001b[0m     \u001b[0;32mreturn\u001b[0m \u001b[0mtokens\u001b[0m\u001b[0;34m\u001b[0m\u001b[0;34m\u001b[0m\u001b[0m\n",
      "\u001b[0;31mKeyboardInterrupt\u001b[0m: "
     ]
    }
   ],
   "source": [
    "lex, inv, doc, stats = build_index(dataset)"
   ]
  },
  {
   "cell_type": "markdown",
   "metadata": {
    "id": "fyD1aduvJo3y"
   },
   "source": [
    "# Compression\n",
    "\n",
    "We implemented compression directly at the **byte level** to ensure **efficiency**, **accuracy**, and adherence to practical standards. Using **Variable Byte Encoding (VBEncode)**, we optimized the representation of numbers, minimizing the space required. Additionally, the use of **delta gaps (dgaps)** for document IDs further improves compression by transforming IDs into smaller, easier-to-compress values.\n",
    "\n",
    "### Key Features of the Compression System\n",
    "\n",
    "- **Byte-level operations for precision and efficiency**:  \n",
    "  - By avoiding strings and unnecessary encoding overhead, we achieve a **compact, portable index** that integrates seamlessly in multi-language or distributed environments.  \n",
    "  - The use of `bytearray` enhances efficiency for data storage and transmission.\n",
    "\n",
    "- **Delta gaps for document IDs**:  \n",
    "  - Document IDs are transformed into **delta gaps**, which are smaller values, making them easier to compress.  \n",
    "  - This approach ensures **better compression performance** while maintaining functionality.\n",
    "\n",
    "- **Separation into compression and decompression classes**:  \n",
    "  - The system is modular, with separate classes for **compressing** and **decompressing** the dictionary.  \n",
    "  - This allows us to operate exclusively on the dictionary, either in its normal or compressed form, without directly modifying the `inv_index` structure.  \n",
    "  - The design improves **modularity** and **maintainability**.\n",
    "\n",
    "---\n",
    "\n",
    "### Benefits of This Approach\n",
    "\n",
    "- **Compact and portable index**:  \n",
    "  - The byte-level encoding ensures the index is lightweight and easily integrable into various systems.  \n",
    "\n",
    "- **Efficient storage and transmission**:  \n",
    "  - The use of `bytearray` optimizes the system for both high-compression needs and scenarios requiring ease of frequency management.\n",
    "\n",
    "- **Modular and maintainable design**:  \n",
    "  - Separating compression logic into dedicated classes simplifies the codebase and enhances reusability.  \n"
   ]
  },
  {
   "cell_type": "code",
   "execution_count": null,
   "metadata": {
    "id": "sxThe3vgTIIq"
   },
   "outputs": [],
   "source": [
    "#!!!for the compression and decompression the RAM offered by colab is not sufficent\n",
    "import pickle\n",
    "import numpy as np\n",
    "from tqdm import tqdm\n",
    "\n",
    "class Compression:\n",
    "    def __init__(self, inv):\n",
    "        self.inv = inv\n",
    "\n",
    "    @staticmethod\n",
    "    def VBEncode(n):\n",
    "        byte = []\n",
    "        while True:\n",
    "            byte.append(n % 128)\n",
    "            if n < 128:\n",
    "                break\n",
    "            n //= 128\n",
    "        byte[0] += 128  # Set the control bit on the first byte\n",
    "        return byte[::-1]\n",
    "\n",
    "    @staticmethod\n",
    "    def VBEncodeList(n_list):\n",
    "        b = bytearray()\n",
    "        for n in n_list:\n",
    "            b.extend(Compression.VBEncode(n))\n",
    "        return b\n",
    "\n",
    "    @staticmethod\n",
    "    def VBDecode(byte_array):\n",
    "        n_list = []\n",
    "        n = 0\n",
    "        for b in byte_array:\n",
    "            if b < 128:\n",
    "                n = 128 * n + b\n",
    "            else:\n",
    "                n = 128 * n + (b - 128)\n",
    "                n_list.append(n)\n",
    "                n = 0\n",
    "        return n_list\n",
    "\n",
    "    @staticmethod\n",
    "    def dgaps(n_list):\n",
    "        return [n_list[0]] + list(np.diff(n_list))\n",
    "\n",
    "    def vb_compress_docids(self, doc_ids):\n",
    "        # Apply delta gaps to docids and then encode\n",
    "        return Compression.VBEncodeList(Compression.dgaps(doc_ids))\n",
    "\n",
    "    def compress_inverted_index(self):\n",
    "        compressed_inv = {'docids': {}, 'freqs': {}}\n",
    "        for term_id, doc_ids in tqdm(self.inv['docids'].items(), desc=\"Compressing docids\"):\n",
    "            compressed_inv['docids'][term_id] = self.vb_compress_docids(doc_ids)  # Compress docids with delta gaps\n",
    "            compressed_inv['freqs'][term_id] = self.inv['freqs'][term_id]  # Leave freqs unchanged\n",
    "        return compressed_inv\n",
    "\n",
    "    def vb_decompress_docids(self, byte_array):\n",
    "        # Decode and then reconstruct original docids using cumulative sum\n",
    "        dgaps = Compression.VBDecode(byte_array)\n",
    "        return list(np.cumsum(dgaps))\n",
    "\n",
    "    def decompress_inverted_index(self, compressed_inv):\n",
    "        decompressed_inv = {'docids': {}, 'freqs': {}}\n",
    "        for term_id, encoded_docids in tqdm(compressed_inv['docids'].items(), desc=\"Decompressing docids\"):\n",
    "            decompressed_inv['docids'][term_id] = self.vb_decompress_docids(encoded_docids)   # Decompress docids\n",
    "            decompressed_inv['freqs'][term_id] = compressed_inv['freqs'][term_id]  # Retrieve freqs unchanged\n",
    "        return decompressed_inv\n"
   ]
  },
  {
   "cell_type": "code",
   "execution_count": null,
   "metadata": {
    "colab": {
     "base_uri": "https://localhost:8080/"
    },
    "executionInfo": {
     "elapsed": 117629,
     "status": "ok",
     "timestamp": 1736238628211,
     "user": {
      "displayName": "l v",
      "userId": "15300295730160774968"
     },
     "user_tz": -60
    },
    "id": "yr7DfQ5iTiwt",
    "outputId": "aecc260c-5ade-4f30-b6f4-57957387f8be"
   },
   "outputs": [
    {
     "name": "stderr",
     "output_type": "stream",
     "text": [
      "Compressing docids: 100%|██████████| 5520712/5520712 [01:57<00:00, 47070.88it/s] \n"
     ]
    }
   ],
   "source": [
    "compression=Compression(inv)\n",
    "compressed_inv = compression.compress_inverted_index()"
   ]
  },
  {
   "cell_type": "code",
   "execution_count": null,
   "metadata": {
    "colab": {
     "base_uri": "https://localhost:8080/"
    },
    "executionInfo": {
     "elapsed": 9994,
     "status": "ok",
     "timestamp": 1736238721081,
     "user": {
      "displayName": "l v",
      "userId": "15300295730160774968"
     },
     "user_tz": -60
    },
    "id": "jbER55_qTuak",
    "outputId": "44b7aa65-8cd7-40d3-bbbb-f50b61fd11b5"
   },
   "outputs": [
    {
     "name": "stdout",
     "output_type": "stream",
     "text": [
      "The compressed inverted index requires 565.6 MB bytes (all included)\n"
     ]
    }
   ],
   "source": [
    "# Save the compressed index\n",
    "import pickle\n",
    "import humanize\n",
    "import os\n",
    "\n",
    "with open('comp_dict.pickle', 'wb') as f:\n",
    "    pickle.dump((compressed_inv), f)\n",
    "\n",
    "print(f'The compressed inverted index requires {humanize.naturalsize(os.path.getsize(\"comp_dict.pickle\"))} bytes (all included)')"
   ]
  },
  {
   "cell_type": "code",
   "execution_count": null,
   "metadata": {
    "colab": {
     "base_uri": "https://localhost:8080/"
    },
    "executionInfo": {
     "elapsed": 66824,
     "status": "ok",
     "timestamp": 1736238828102,
     "user": {
      "displayName": "l v",
      "userId": "15300295730160774968"
     },
     "user_tz": -60
    },
    "id": "ty7hKF8UT8Bq",
    "outputId": "199dd521-e9e6-41c0-a98b-23463f9e0aec"
   },
   "outputs": [
    {
     "name": "stderr",
     "output_type": "stream",
     "text": [
      "Decompressing docids: 100%|██████████| 5520712/5520712 [01:06<00:00, 82972.54it/s]\n"
     ]
    }
   ],
   "source": [
    "\n",
    "decompression=Compression(compressed_inv)\n",
    "decomp_inv=decompression.decompress_inverted_index(compressed_inv)"
   ]
  },
  {
   "cell_type": "markdown",
   "metadata": {
    "id": "GTIGLVQlTIr8"
   },
   "source": [
    "# Inverted Index\n",
    "\n",
    "In our approach, we decided to structure the inverted index in a more modular way compared to the code seen in class, in order to improve the class structure. One of the key decisions was to separate the management of the posting lists from the main index structure. This allows us to keep the code cleaner and more scalable, simplifying the addition of new functionalities such as other ranking methods or future optimizations.\n",
    "\n",
    "Another significant difference lies in the score calculation. In the professor's code, the score is based solely on the relative frequency of the term compared to the document length, a simple but limited method. We, on the other hand, decided to integrate advanced ranking models such as **TF-IDF** and **BM25**. To support these methods, we added global statistics like **IDF** and the **average document length**, calculating them once to avoid recalculations during queries. This allows us to provide more accurate results and adapt the system to more complex scenarios.\n",
    "\n",
    "Additionally, another new feature is the passing of new stats as parameters to facilitate score calculations (since they are more complex and require more specific measures).\n"
   ]
  },
  {
   "cell_type": "markdown",
   "metadata": {
    "id": "7K9xYoyECs0r"
   },
   "source": [
    "### TF-IDF Formula\n",
    "\n",
    "The TF-IDF score for a term $ t $ in a document $ d $ is calculated as:\n",
    "\n",
    "$$\n",
    "\\text{TF-IDF}(t, d) = \\text{TF}(t, d) \\cdot \\text{IDF}(t)\n",
    "$$\n",
    "\n",
    "Where:\n",
    "\n",
    "- **Term Frequency (TF):**\n",
    "\n",
    "$$\n",
    "\\text{TF}(t, d) = f_{t,d}\n",
    "$$\n",
    "\n",
    "- **Inverse Document Frequency (IDF):**\n",
    "\n",
    "$$\n",
    "\\text{IDF}(t) = \\log \\left( \\frac{N}{\\text{df}(t) + 1} \\right)\n",
    "$$\n",
    "\n",
    "Here:\n",
    "- $ f_{t,d} $: frequency of term $ t $ in document $ d $.\n",
    "- $ len(d) $: length of document $ d $ (total number of terms).\n",
    "- $ N $: total number of documents.\n",
    "- $ df(t) $: number of documents containing the term $ t $.\n",
    "\n",
    "\n",
    "### BM25 Formula\n",
    "\n",
    "The BM25 score for a term $ t $ in a document $ d $ is calculated as:\n",
    "\n",
    "$$\n",
    "RSV_{BM25}(q, d) = \\sum_{t \\in q} \\text{IDF}(t) \\cdot \\frac{\\text{TF}(t, d) \\cdot (k_1 + 1)}{\\text{TF}(t, d) + k_1 \\cdot \\left( (1 - b) + b \\cdot \\frac{\\text{len}(d)}{\\text{avgdl}} \\right)}\n",
    "$$\n",
    "\n",
    "Where:\n",
    "\n",
    "- **Term Frequency (TF):**\n",
    "\n",
    "$$\n",
    "\\text{TF}(t, d) = f_{t,d}\n",
    "$$\n",
    "\n",
    "- **Inverse Document Frequency (IDF):**\n",
    "\n",
    "$$\n",
    "\\text{IDF}(t) = \\log \\left( \\frac{N - \\text{df}(t) + 0.5}{\\text{df}(t) + 0.5} + 1 \\right)\n",
    "$$\n",
    "\n",
    "- **Parameters:**\n"
   ]
  },
  {
   "cell_type": "code",
   "execution_count": null,
   "metadata": {
    "colab": {
     "base_uri": "https://localhost:8080/",
     "height": 190
    },
    "executionInfo": {
     "elapsed": 205,
     "status": "error",
     "timestamp": 1737551964353,
     "user": {
      "displayName": "Nicola Tonellotto",
      "userId": "17533833776178224794"
     },
     "user_tz": -60
    },
    "id": "0KgDACXoJUFO",
    "outputId": "0c9d3e72-a2dd-43b4-e8a0-34b63f087e6a"
   },
   "outputs": [
    {
     "ename": "FileNotFoundError",
     "evalue": "[Errno 2] No such file or directory: '/content/drive/Shareddrives/Consegna_Progetti_MIRCV/IR/IR_Indexes/datasets_and_index/index.pickle'",
     "output_type": "error",
     "traceback": [
      "\u001b[0;31m---------------------------------------------------------------------------\u001b[0m",
      "\u001b[0;31mFileNotFoundError\u001b[0m                         Traceback (most recent call last)",
      "\u001b[0;32m<ipython-input-10-0700ca133db7>\u001b[0m in \u001b[0;36m<cell line: 0>\u001b[0;34m()\u001b[0m\n\u001b[1;32m      2\u001b[0m \u001b[0;32mimport\u001b[0m \u001b[0mhumanize\u001b[0m\u001b[0;34m\u001b[0m\u001b[0;34m\u001b[0m\u001b[0m\n\u001b[1;32m      3\u001b[0m \u001b[0;32mimport\u001b[0m \u001b[0mos\u001b[0m\u001b[0;34m\u001b[0m\u001b[0;34m\u001b[0m\u001b[0m\n\u001b[0;32m----> 4\u001b[0;31m \u001b[0;32mwith\u001b[0m \u001b[0mopen\u001b[0m\u001b[0;34m(\u001b[0m\u001b[0;34m'/content/drive/Shareddrives/Consegna_Progetti_MIRCV/IR/IR_Indexes/datasets_and_index/index.pickle'\u001b[0m\u001b[0;34m,\u001b[0m \u001b[0;34m'wb'\u001b[0m\u001b[0;34m)\u001b[0m \u001b[0;32mas\u001b[0m \u001b[0mf\u001b[0m\u001b[0;34m:\u001b[0m\u001b[0;34m\u001b[0m\u001b[0;34m\u001b[0m\u001b[0m\n\u001b[0m\u001b[1;32m      5\u001b[0m     \u001b[0mpickle\u001b[0m\u001b[0;34m.\u001b[0m\u001b[0mdump\u001b[0m\u001b[0;34m(\u001b[0m\u001b[0;34m(\u001b[0m\u001b[0mlex\u001b[0m\u001b[0;34m,\u001b[0m \u001b[0minv\u001b[0m\u001b[0;34m,\u001b[0m \u001b[0mdoc\u001b[0m\u001b[0;34m,\u001b[0m \u001b[0mstats\u001b[0m\u001b[0;34m)\u001b[0m\u001b[0;34m,\u001b[0m \u001b[0mf\u001b[0m\u001b[0;34m)\u001b[0m\u001b[0;34m\u001b[0m\u001b[0;34m\u001b[0m\u001b[0m\n",
      "\u001b[0;31mFileNotFoundError\u001b[0m: [Errno 2] No such file or directory: '/content/drive/Shareddrives/Consegna_Progetti_MIRCV/IR/IR_Indexes/datasets_and_index/index.pickle'"
     ]
    }
   ],
   "source": [
    "import pickle\n",
    "import humanize\n",
    "import os\n",
    "with open('your path', 'wb') as f:\n",
    "    pickle.dump((lex, inv, doc, stats), f)\n"
   ]
  },
  {
   "cell_type": "code",
   "execution_count": null,
   "metadata": {
    "colab": {
     "base_uri": "https://localhost:8080/",
     "height": 207
    },
    "executionInfo": {
     "elapsed": 234,
     "status": "error",
     "timestamp": 1737551973154,
     "user": {
      "displayName": "Nicola Tonellotto",
      "userId": "17533833776178224794"
     },
     "user_tz": -60
    },
    "id": "MmTd5pBmO_7o",
    "outputId": "39469114-bfc4-4891-a99e-35acc3a6617a"
   },
   "outputs": [
    {
     "ename": "FileNotFoundError",
     "evalue": "[Errno 2] No such file or directory: '/content/drive/Shareddrives/Consegna_Progetti_MIRCV/IR/IR_Indexes/datasets_and_index/index.pickle'",
     "output_type": "error",
     "traceback": [
      "\u001b[0;31m---------------------------------------------------------------------------\u001b[0m",
      "\u001b[0;31mFileNotFoundError\u001b[0m                         Traceback (most recent call last)",
      "\u001b[0;32m<ipython-input-11-1a9df458b06c>\u001b[0m in \u001b[0;36m<cell line: 0>\u001b[0;34m()\u001b[0m\n\u001b[1;32m      3\u001b[0m \u001b[0;32mimport\u001b[0m \u001b[0mhumanize\u001b[0m\u001b[0;34m\u001b[0m\u001b[0;34m\u001b[0m\u001b[0m\n\u001b[1;32m      4\u001b[0m \u001b[0;32mimport\u001b[0m \u001b[0mos\u001b[0m\u001b[0;34m\u001b[0m\u001b[0;34m\u001b[0m\u001b[0m\n\u001b[0;32m----> 5\u001b[0;31m \u001b[0;32mwith\u001b[0m \u001b[0mopen\u001b[0m\u001b[0;34m(\u001b[0m\u001b[0;34m'/content/drive/Shareddrives/Consegna_Progetti_MIRCV/IR/IR_Indexes/datasets_and_index/index.pickle'\u001b[0m\u001b[0;34m,\u001b[0m \u001b[0;34m'rb'\u001b[0m\u001b[0;34m)\u001b[0m \u001b[0;32mas\u001b[0m \u001b[0mf\u001b[0m\u001b[0;34m:\u001b[0m\u001b[0;34m\u001b[0m\u001b[0;34m\u001b[0m\u001b[0m\n\u001b[0m\u001b[1;32m      6\u001b[0m     \u001b[0mlex\u001b[0m\u001b[0;34m,\u001b[0m\u001b[0minv\u001b[0m\u001b[0;34m,\u001b[0m\u001b[0mdoc\u001b[0m\u001b[0;34m,\u001b[0m\u001b[0mstats\u001b[0m\u001b[0;34m=\u001b[0m\u001b[0mpickle\u001b[0m\u001b[0;34m.\u001b[0m\u001b[0mload\u001b[0m\u001b[0;34m(\u001b[0m\u001b[0mf\u001b[0m\u001b[0;34m)\u001b[0m\u001b[0;34m\u001b[0m\u001b[0;34m\u001b[0m\u001b[0m\n\u001b[1;32m      7\u001b[0m \u001b[0;34m\u001b[0m\u001b[0m\n",
      "\u001b[0;31mFileNotFoundError\u001b[0m: [Errno 2] No such file or directory: '/content/drive/Shareddrives/Consegna_Progetti_MIRCV/IR/IR_Indexes/datasets_and_index/index.pickle'"
     ]
    }
   ],
   "source": [
    "# Use directly the original inverted index\n",
    "import pickle\n",
    "import humanize\n",
    "import os\n",
    "with open('your path', 'rb') as f:\n",
    "    lex,inv,doc,stats=pickle.load(f)\n",
    "\n",
    "print(f'The inverted index requires {humanize.naturalsize(os.path.getsize(\"your path\"))} bytes (all included)')"
   ]
  },
  {
   "cell_type": "code",
   "execution_count": null,
   "metadata": {
    "id": "bYt2wwmlJ-37"
   },
   "outputs": [],
   "source": [
    "import math\n",
    "\n",
    "# Constants for BM25 scoring\n",
    "k1 = 1.2\n",
    "b = 0.75\n",
    "\n",
    "class InvertedIndex:\n",
    "\n",
    "    class PostingListIterator:\n",
    "        def __init__(self, docids, freqs, doc, num_docs, avg_doc_len, method=\"bm25\"):\n",
    "            self.docids = docids\n",
    "            self.freqs = freqs\n",
    "            self.pos = 0  # Current position in the posting list\n",
    "            self.doc = doc\n",
    "            self.num_docs = num_docs\n",
    "            self.avg_doc_len = avg_doc_len\n",
    "            self.method = method\n",
    "\n",
    "            # Precomputing IDF (constant for each term)\n",
    "            self.df = len(docids)\n",
    "            if method == \"bm25\":\n",
    "                self.idf = math.log((num_docs - self.df + 0.5) / (self.df + 0.5) + 1) #BM1\n",
    "            elif method == \"TFIDF\":\n",
    "                self.idf = math.log((num_docs / (self.df + 1)) + 1)\n",
    "\n",
    "        def docid(self):\n",
    "            # Returns the current document ID or infinity if the list is exhausted\n",
    "            if self.is_end_list():\n",
    "                return math.inf\n",
    "            return self.docids[self.pos]\n",
    "\n",
    "        def score(self):\n",
    "            # Computes the score of the current document based on the chosen method\n",
    "            if self.is_end_list():\n",
    "                return math.inf\n",
    "\n",
    "            tf = self.freqs[self.pos]  # Term frequency in the current document\n",
    "            doc_length = self.doc[self.docid()][1]  # Length of the current document\n",
    "\n",
    "            if self.method == \"bm25\":\n",
    "                # BM25 scoring formula\n",
    "                tf_component = (tf * (k1 + 1)) / (tf + k1 * (1 - b + b * (doc_length / self.avg_doc_len)))\n",
    "                score = self.idf * tf_component\n",
    "            elif self.method == \"TFIDF\":\n",
    "                # TF-IDF scoring formula\n",
    "                score = (1 + math.log(tf)) * self.idf if tf > 0 else 0\n",
    "            return score\n",
    "\n",
    "        def next(self, target=None):\n",
    "            # Moves to the next position or jumps to the target document ID if specified\n",
    "            if not target:\n",
    "                if not self.is_end_list():\n",
    "                    self.pos += 1\n",
    "            else:\n",
    "                if target > self.docid():\n",
    "                    try:\n",
    "                        self.pos = self.docids.index(target, self.pos)\n",
    "                    except ValueError:\n",
    "                        self.pos = len(self.docids)\n",
    "\n",
    "        def is_end_list(self):\n",
    "            # Checks if the end of the posting list has been reached\n",
    "            return self.pos == len(self.docids)\n",
    "\n",
    "        def len(self):\n",
    "            # Returns the length of the posting list\n",
    "            return len(self.docids)\n",
    "\n",
    "    def __init__(self, lex, inv, doc, stats, method=\"bm25\"):\n",
    "        self.lexicon = lex  # Lexicon containing term mappings\n",
    "        self.inv = inv  # Inverted index with document IDs and term frequencies\n",
    "        self.doc = doc  # Document metadata (e.g., lengths)\n",
    "        self.stats = stats  # Corpus statistics (e.g., total docs, tokens)\n",
    "        self.method = method  # Scoring method (BM25 or TF-IDF)\n",
    "\n",
    "    def num_docs(self):\n",
    "        # Returns the total number of documents in the corpus\n",
    "        return self.stats['num_docs']\n",
    "\n",
    "    def get_posting(self, termid):\n",
    "        # Retrieves the posting list iterator for a given term ID\n",
    "        return InvertedIndex.PostingListIterator(\n",
    "            self.inv['docids'][termid],\n",
    "            self.inv['freqs'][termid],\n",
    "            self.doc,\n",
    "            self.stats[\"num_docs\"],\n",
    "            self.stats[\"num_tokens\"] / self.stats[\"num_docs\"]\n",
    "        )\n",
    "\n",
    "    def get_termids(self, tokens):\n",
    "        # Maps a list of tokens to their corresponding term IDs\n",
    "        return [self.lexicon[token][0] for token in tokens if token in self.lexicon]\n",
    "\n",
    "    def get_postings(self, termids):\n",
    "        # Retrieves posting list iterators for a list of term IDs\n",
    "        return [self.get_posting(termid) for termid in termids]\n"
   ]
  },
  {
   "cell_type": "code",
   "execution_count": null,
   "metadata": {
    "colab": {
     "base_uri": "https://localhost:8080/"
    },
    "executionInfo": {
     "elapsed": 386,
     "status": "ok",
     "timestamp": 1736260679557,
     "user": {
      "displayName": "l v",
      "userId": "15300295730160774968"
     },
     "user_tz": -60
    },
    "id": "9kem4P90KVJL",
    "outputId": "e949f24c-21aa-46d1-c045-8fcb476be992"
   },
   "outputs": [
    {
     "data": {
      "text/plain": [
       "4635922"
      ]
     },
     "execution_count": 13,
     "metadata": {},
     "output_type": "execute_result"
    }
   ],
   "source": [
    "#if you use the original index\n",
    "inv_index = InvertedIndex(lex, inv, doc, stats)\n",
    "inv_index.num_docs()"
   ]
  },
  {
   "cell_type": "code",
   "execution_count": null,
   "metadata": {
    "id": "kSRcCNEU5p0r"
   },
   "outputs": [],
   "source": [
    "#if you use the decompressed index\n",
    "inv_index=InvertedIndex(lex,decomp_inv,doc,stats)\n",
    "inv_index.num_docs()"
   ]
  },
  {
   "cell_type": "markdown",
   "metadata": {
    "id": "aJFBnO7qKlwd"
   },
   "source": [
    "# Query Processing\n",
    "\n",
    "Our dataset, DBpedia, is a collection of documents summarizing Wikipedia descriptions in a few lines. The purpose of our IR system is to find the top k most relevant documents based on the user's query. For this reason, in the Query Processing phase, we directly approached a rank retrieval system with disjunctive queries. In this section, we will explore whether it's possible to modify the **daat** and **taat** approaches discussed in class to improve the efficiency of our IR system, and then evaluate which of these two approaches proves to be more efficient.\n"
   ]
  },
  {
   "cell_type": "code",
   "execution_count": null,
   "metadata": {
    "colab": {
     "base_uri": "https://localhost:8080/"
    },
    "executionInfo": {
     "elapsed": 867,
     "status": "ok",
     "timestamp": 1736260685135,
     "user": {
      "displayName": "l v",
      "userId": "15300295730160774968"
     },
     "user_tz": -60
    },
    "id": "tTor182fKXg0",
    "outputId": "327d70c1-ba87-4337-b052-f36060018ef2"
   },
   "outputs": [
    {
     "name": "stderr",
     "output_type": "stream",
     "text": [
      "[INFO] [starting] opening zip file\n",
      "[INFO] [finished] opening zip file [1ms]\n"
     ]
    }
   ],
   "source": [
    "import ir_datasets\n",
    "dataset=ir_datasets.load(\"beir/dbpedia-entity\")\n",
    "#initial test  query\n",
    "query_test=next(dataset.queries_iter())"
   ]
  },
  {
   "cell_type": "markdown",
   "metadata": {
    "id": "nZcJrcGESxDv"
   },
   "source": [
    "For this project, we will rely on the **TopQueue** class implemented in the lab, which internally uses a heap structure to store the top k results in order of their score. It will be the object returned by the query processing. The main modifications include the creation of an internal sorting function within the class to order the heap based on the score, and the addition of a **query_id** to the elements inside the heap. This **query_id** will be used during the evaluation of the effectiveness of our IR system.\n"
   ]
  },
  {
   "cell_type": "code",
   "execution_count": null,
   "metadata": {
    "id": "VeoWVSGcKkYx"
   },
   "outputs": [],
   "source": [
    "import heapq\n",
    "\n",
    "class TopQueue:\n",
    "    def __init__(self, k=10, threshold=0.0):\n",
    "        self.queue = []\n",
    "        self.k = k  # Maximum number of items in the priority queue\n",
    "        self.threshold = threshold  # Minimum score required for insertion\n",
    "\n",
    "    def size(self):\n",
    "        return len(self.queue)\n",
    "\n",
    "    def would_enter(self, score):\n",
    "        # Checks if a score is higher than the current threshold\n",
    "        return score > self.threshold\n",
    "\n",
    "    def clear(self, new_threshold=None):\n",
    "        # Clears the queue and optionally sets a new threshold\n",
    "        self.queue = []\n",
    "        if new_threshold:\n",
    "            self.threshold = new_threshold\n",
    "\n",
    "    def __repr__(self):\n",
    "        # Returns a string representation of the queue\n",
    "        return f'<{self.size()} items, th={self.threshold} {self.queue}>'\n",
    "\n",
    "    def insert(self, score, query_id, docid):\n",
    "        # Inserts an item into the priority queue if it meets the threshold\n",
    "        if not self.would_enter(score):\n",
    "            return False  # The score is too low to be added to the heap\n",
    "\n",
    "        # Adds the query ID along with the score and document ID\n",
    "        if self.size() < self.k:\n",
    "            heapq.heappush(self.queue, (score, query_id, docid))\n",
    "        else:\n",
    "            heapq.heapreplace(self.queue, (score, query_id, docid))\n",
    "\n",
    "        # Updates the threshold only if the queue contains at least `k` elements\n",
    "        if self.size() >= self.k:\n",
    "            self.threshold = self.queue[0][0]\n",
    "\n",
    "        return True\n",
    "\n",
    "    def sort_descending(self):\n",
    "        # Sorts the queue by score in descending order\n",
    "        self.queue = sorted(self.queue, key=lambda x: x[0], reverse=True)\n",
    "        return self.queue\n"
   ]
  },
  {
   "cell_type": "markdown",
   "metadata": {
    "id": "Z-aNwg1W0ENB"
   },
   "source": [
    "# NEW_DAAT: Optimization of the Document-At-A-Time Algorithm\n",
    "\n",
    "## Introduction\n",
    "The **NEW_DAAT** method represents an optimization over the **DAAT** approach discussed in class. Specifically, we tried to replace the use of the `mindocid` function with a heap structure to find the minimum `doc_id` while scanning the posting lists in parallel.\n",
    "\n",
    "### NEW_DAAT Improvements\n",
    "1. **Use of a heap**:\n",
    "   - Finds the minimum `docid` in constant time $O(1)$ instead of scanning all lists $O(p)$.\n",
    "   - Maintains a heap (priority queue) to manage active `docid`s.\n",
    "2. **Smart processing**:\n",
    "   - Advances pointers only for relevant lists.\n",
    "   - Ignores exhausted postings.\n",
    "3. **Overall efficiency**:\n",
    "   - Reduces repeated comparisons and improves performance on large datasets.\n"
   ]
  },
  {
   "cell_type": "code",
   "execution_count": null,
   "metadata": {
    "id": "g3MiMkG5LHtZ"
   },
   "outputs": [],
   "source": [
    "import heapq\n",
    "import math\n",
    "\n",
    "def min_docid_heap(postings_heap):\n",
    "    # Use a heap structure to find the min docid -> the top of the heap\n",
    "    while postings_heap:\n",
    "        score, index, posting = postings_heap[0]\n",
    "        if not posting.is_end_list():  # Check if the posting list is not exhausted\n",
    "            return posting.docid()\n",
    "        heapq.heappop(postings_heap)  # Remove the top of the heap if the posting is at the end\n",
    "    return math.inf  # Return infinity if no valid document IDs remain\n",
    "\n",
    "def new_daat(query_id, postings, k=10):\n",
    "    top = TopQueue(k)\n",
    "    postings_heap = []\n",
    "\n",
    "    # Initialize heap with the first document id for each posting\n",
    "    for i, posting in enumerate(postings):\n",
    "        if not posting.is_end_list():\n",
    "            heapq.heappush(postings_heap, (posting.docid(), i, posting))\n",
    "\n",
    "    current_docid = min_docid_heap(postings_heap)  # Get the smallest document ID from the heap\n",
    "\n",
    "    while current_docid != math.inf:\n",
    "        score = 0\n",
    "        next_postings_heap = []\n",
    "\n",
    "        while postings_heap:  # Process postings with the current document ID\n",
    "            docid, index, posting = heapq.heappop(postings_heap)\n",
    "            if posting.docid() == current_docid:\n",
    "                score += posting.score()  # Accumulate score for the current document ID\n",
    "                posting.next()  # Advance to the next posting\n",
    "                if not posting.is_end_list():  # Re-add posting to the heap if not exhausted\n",
    "                    heapq.heappush(next_postings_heap, (posting.docid(), index, posting))\n",
    "            else:\n",
    "                heapq.heappush(next_postings_heap, (docid, index, posting))  # Keep postings for other document IDs\n",
    "\n",
    "        # Insert the score of the current document ID into the result queue\n",
    "        top.insert(score, query_id, current_docid)\n",
    "\n",
    "        # Update the heap for the next iteration\n",
    "        postings_heap = next_postings_heap\n",
    "\n",
    "        # Get the next smallest document ID from the updated heap\n",
    "        current_docid = min_docid_heap(postings_heap)\n",
    "\n",
    "    return top.sort_descending()  # Return results sorted in descending order\n",
    "@profile\n",
    "def query_process_new_daat(query, index):\n",
    "    qtokens = set(preprocess(query.text))  # Preprocess query to extract unique tokens\n",
    "    qtermids = index.get_termids(qtokens)  # Get term IDs for query tokens\n",
    "    postings = index.get_postings(qtermids)  # Retrieve postings for term IDs\n",
    "    return new_daat(query.query_id, postings)\n"
   ]
  },
  {
   "cell_type": "code",
   "execution_count": null,
   "metadata": {
    "id": "0I3HkCCm5SFI"
   },
   "outputs": [],
   "source": [
    "import math\n",
    "def min_docid(postings):\n",
    "    min_docid = math.inf\n",
    "    for p in postings:\n",
    "        if not p.is_end_list():\n",
    "            min_docid = min(p.docid(), min_docid)\n",
    "    return min_docid\n",
    "def daat(postings, k=10):\n",
    "    top = TopQueue(k)\n",
    "    current_docid = min_docid(postings)\n",
    "    while current_docid != math.inf:\n",
    "        score = 0\n",
    "        next_docid = math.inf\n",
    "        for posting in postings:\n",
    "            if posting.docid() == current_docid:\n",
    "                score += posting.score()\n",
    "                posting.next()\n",
    "            if not posting.is_end_list() and posting.docid() < next_docid:\n",
    "                next_docid = posting.docid()\n",
    "        top.insert(score,0,current_docid)\n",
    "        current_docid = next_docid\n",
    "\n",
    "    return sorted(top.queue, reverse=True)\n",
    "@profile\n",
    "def query_process_daat(query, index):\n",
    "    qtokens = set(preprocess(query.text))\n",
    "    qtermids = index.get_termids(qtokens)\n",
    "    postings = index.get_postings(qtermids)\n",
    "    return daat(postings)"
   ]
  },
  {
   "cell_type": "markdown",
   "metadata": {
    "id": "7pxqEeRaxOAc"
   },
   "source": [
    "Let's compare the results to see if we notice an improvement in time with the new changes.\n"
   ]
  },
  {
   "cell_type": "code",
   "execution_count": null,
   "metadata": {
    "colab": {
     "base_uri": "https://localhost:8080/"
    },
    "executionInfo": {
     "elapsed": 1940,
     "status": "ok",
     "timestamp": 1736260708547,
     "user": {
      "displayName": "l v",
      "userId": "15300295730160774968"
     },
     "user_tz": -60
    },
    "id": "3EXD-bcz404A",
    "outputId": "bc72dd34-931b-48ff-dd24-39d2bf4d87f0"
   },
   "outputs": [
    {
     "name": "stdout",
     "output_type": "stream",
     "text": [
      "query_process_new_daat (543.091 ms)\n",
      "query_process_daat (556.537 ms)\n",
      "[(21.59147230015924, 0, 367754), (18.795246398976357, 0, 2091522), (16.969878640694485, 0, 2007656), (16.46567790214739, 0, 2723675), (16.442701311335128, 0, 1225602), (16.39756146534163, 0, 2582919), (16.34353693741285, 0, 517969), (16.22198800368843, 0, 2429746), (16.16937594276275, 0, 386825), (16.115939351468775, 0, 3561287)]\n",
      "[(21.59147230015924, 'INEX_LD-20120112', 367754), (18.795246398976357, 'INEX_LD-20120112', 2091522), (16.969878640694485, 'INEX_LD-20120112', 2007656), (16.46567790214739, 'INEX_LD-20120112', 2723675), (16.442701311335128, 'INEX_LD-20120112', 1225602), (16.39756146534163, 'INEX_LD-20120112', 2582919), (16.34353693741285, 'INEX_LD-20120112', 517969), (16.22198800368843, 'INEX_LD-20120112', 2429746), (16.16937594276275, 'INEX_LD-20120112', 386825), (16.115939351468775, 'INEX_LD-20120112', 3561287)]\n"
     ]
    }
   ],
   "source": [
    "new_res=query_process_new_daat(query_test,inv_index)\n",
    "res=query_process_daat(query_test,inv_index)\n",
    "print(res)\n",
    "print(new_res)"
   ]
  },
  {
   "cell_type": "markdown",
   "metadata": {
    "id": "5c-4xBfmzd6P"
   },
   "source": [
    "# Optimization of the Taat Function\n",
    "\n",
    "New Taat is very similar to Taat, with the only confirmed changes being:\n",
    "\n",
    "* Directly checking within the taat function if a document can enter the top-k, avoiding the insert and various class processes with the `would-enter` function.\n",
    "* Sorting the heap using the internal `sort_descending` function of the **TopQueue** class.\n"
   ]
  },
  {
   "cell_type": "code",
   "execution_count": null,
   "metadata": {
    "id": "PvNyD4pKLTHU"
   },
   "outputs": [],
   "source": [
    "from collections import defaultdict, Counter\n",
    "import heapq\n",
    "import math\n",
    "\n",
    "def new_taat(query_id, postings,doc, k=10):\n",
    "    # Step 1: Aggregate scores for each document in a dictionary\n",
    "    doc_scores = defaultdict(float)\n",
    "    for posting in postings:\n",
    "        current_docid = posting.docid()\n",
    "        while current_docid != math.inf:\n",
    "            doc_scores[current_docid] += posting.score()\n",
    "            posting.next()\n",
    "            current_docid = posting.docid()\n",
    "\n",
    "    # Step 2: Use TopQueue to maintain top-k scoring documents efficiently\n",
    "    top = TopQueue(k)\n",
    "    for docid, score in doc_scores.items():\n",
    "        # Only insert if score is high enough to enter top-k\n",
    "        if top.would_enter(score):\n",
    "            top.insert(score, query_id, doc[docid][0])\n",
    "\n",
    "    # Step 3: Return sorted results from TopQueue\n",
    "    return top.sort_descending()\n",
    "@profile\n",
    "def query_process_new_taat(query, index):\n",
    "    qtokens = set(preprocess(query.text))\n",
    "    qtermids = index.get_termids(qtokens)\n",
    "    postings = index.get_postings(qtermids)\n",
    "    return new_taat(query.query_id, postings,index.doc)"
   ]
  },
  {
   "cell_type": "code",
   "execution_count": null,
   "metadata": {
    "id": "AmwZt9MVstt8"
   },
   "outputs": [],
   "source": [
    "from collections import defaultdict\n",
    "\n",
    "def taat(postings, k=10):\n",
    "    A = defaultdict(float)\n",
    "    for posting in postings:\n",
    "        current_docid = posting.docid()\n",
    "        while current_docid != math.inf:\n",
    "            A[current_docid] += posting.score()\n",
    "            posting.next()\n",
    "            current_docid = posting.docid()\n",
    "    top = TopQueue(k)\n",
    "    for docid, score in A.items():\n",
    "        top.insert(score,0,docid)\n",
    "    return sorted(top.queue, reverse=True)\n",
    "@profile\n",
    "def query_process_taat(query, index):\n",
    "    qtokens = set(preprocess(query.text))\n",
    "    qtermids = index.get_termids(qtokens)\n",
    "    postings = index.get_postings(qtermids)\n",
    "    return taat(postings)"
   ]
  },
  {
   "cell_type": "markdown",
   "metadata": {
    "id": "B5l_RTsc0HXo"
   },
   "source": [
    "We also observe, although less clearly than with the DAAT function, an improvement in timing with the new changes.\n"
   ]
  },
  {
   "cell_type": "code",
   "execution_count": null,
   "metadata": {
    "colab": {
     "base_uri": "https://localhost:8080/"
    },
    "executionInfo": {
     "elapsed": 865,
     "status": "ok",
     "timestamp": 1736260729023,
     "user": {
      "displayName": "l v",
      "userId": "15300295730160774968"
     },
     "user_tz": -60
    },
    "id": "5-kqZFibLZYR",
    "outputId": "2aa81b9c-d115-47cb-a722-517a73321c08"
   },
   "outputs": [
    {
     "name": "stdout",
     "output_type": "stream",
     "text": [
      "query_process_new_taat (309.473 ms)\n",
      "query_process_taat (325.153 ms)\n",
      "[(21.59147230015924, 0, 367754), (18.795246398976357, 0, 2091522), (16.969878640694485, 0, 2007656), (16.46567790214739, 0, 2723675), (16.442701311335128, 0, 1225602), (16.39756146534163, 0, 2582919), (16.34353693741285, 0, 517969), (16.22198800368843, 0, 2429746), (16.16937594276275, 0, 386825), (16.115939351468775, 0, 3561287)]\n",
      "[(21.59147230015924, 'INEX_LD-20120112', '<dbpedia:Opinion>'), (18.795246398976357, 'INEX_LD-20120112', '<dbpedia:Cartridge_Trap>'), (16.969878640694485, 'INEX_LD-20120112', '<dbpedia:Terminology_of_the_Vietnam_War>'), (16.46567790214739, 'INEX_LD-20120112', '<dbpedia:Leaders_of_the_Vietnam_War>'), (16.442701311335128, 'INEX_LD-20120112', '<dbpedia:List_of_songs_about_the_Vietnam_War>'), (16.39756146534163, 'INEX_LD-20120112', '<dbpedia:List_of_Vietnam_War_games>'), (16.34353693741285, 'INEX_LD-20120112', '<dbpedia:Awards_and_decorations_of_the_Vietnam_War>'), (16.22198800368843, 'INEX_LD-20120112', '<dbpedia:Vietnam_War_in_film>'), (16.16937594276275, 'INEX_LD-20120112', '<dbpedia:Vietnam_War_casualties>'), (16.115939351468775, 'INEX_LD-20120112', '<dbpedia:War_Crimes_Fact_Finding_Committee>')]\n"
     ]
    }
   ],
   "source": [
    "res_new_taat=query_process_new_taat(query_test,inv_index)\n",
    "res_taat=query_process_taat(query_test,inv_index)\n",
    "print(res_taat)\n",
    "print(res_new_taat)"
   ]
  },
  {
   "cell_type": "markdown",
   "metadata": {
    "id": "qWVw5xliMbx7"
   },
   "source": [
    "# Efficency evaluation"
   ]
  },
  {
   "cell_type": "markdown",
   "metadata": {
    "id": "SfCfZ7Um0RtA"
   },
   "source": [
    "# **Query Processor Efficiency Evaluation: DAAT vs. TAAT**\n",
    "\n",
    "In this study, we compare the performance of two query processing approaches: **DAAT** (Document-at-a-time) and **TAAT** (Term-at-a-time). The evaluation focuses on three key metrics: **throughput**, **average query time**, and **execution time variance**. We also perform a statistical test to determine if the differences between the two approaches are significant.\n",
    "\n",
    "## **Metric Definitions**\n",
    "\n",
    "### **1. Throughput**\n",
    "Throughput measures the amount of work completed per unit of time. In this case, it refers to the number of queries processed per second, calculated as:\n",
    "\n",
    "$$\n",
    "\\text{Throughput} = \\frac{k_{\\text{sample}}}{\\text{Total time to process all queries}}\n",
    "$$\n",
    "\n",
    "where:\n",
    "- $ k_{\\text{sample}} $ is the number of queries sampled in each iteration,\n",
    "- **Total time to process all queries** is the sum of the execution times for all queries.\n",
    "\n",
    "### **2. Average Query Time**\n",
    "The average query time is the mean of the execution times for all sampled queries. It is calculated as:\n",
    "\n",
    "$$\n",
    "\\text{Average Query Time} = \\frac{1}{k_{\\text{sample}}} \\sum_{i=1}^{k_{\\text{sample}}} \\text{Query Time}_i\n",
    "$$\n",
    "\n",
    "where:\n",
    "- $ \\text{Query Time}_i $ is the time taken to process query \\( i \\).\n",
    "\n",
    "### **3. Execution Time Variance**\n",
    "Execution time variance measures the dispersion of query execution times from the average. It is calculated as:\n",
    "\n",
    "$$\n",
    "\\text{Variance} = \\frac{1}{k_{\\text{sample}}} \\sum_{i=1}^{k_{\\text{sample}}} \\left( \\text{Query Time}_i - \\text{Average Time} \\right)^2\n",
    "$$\n",
    "\n",
    "where:\n",
    "- $\\text{Query Time}_i $ is the execution time of query \\( i \\),\n",
    "- $ \\text{Average Time} $ is the mean execution time.\n",
    "\n",
    "## **Evaluation Process**\n",
    "\n",
    "The evaluation function `evaluate_query_processor` performs the following steps:\n",
    "\n",
    "1. **Query Sampling**: A random subset of $k_{\\text{sample}}$ queries is selected from the available query set.\n",
    "2. **Execution Time Measurement**: For each sampled query, execution time is measured and the average query time is calculated.\n",
    "3. **Metric Calculation**: For each iteration, the following metrics are computed:\n",
    "   - **Throughput**,\n",
    "   - **Average Query Time**,\n",
    "   - **Time Variance**.\n",
    "4. **Result Updates**: Results are stored in a dictionary containing throughput, average time, and variance for each iteration.\n",
    "\n",
    "## **Statistical Comparison**\n",
    "\n",
    "To determine if there are significant differences in throughput between DAAT and TAAT, we perform a **t-test** on the throughput of both implementations:\n",
    "\n",
    "$$\n",
    "t = \\frac{\\bar{X}_1 - \\bar{X}_2}{\\sqrt{\\frac{s_1^2}{n_1} + \\frac{s_2^2}{n_2}}}\n",
    "$$\n",
    "\n",
    "where:\n",
    "- $ \\bar{X}_1 $ and $ \\bar{X}_2 $ are the average throughputs for DAAT and TAAT,\n",
    "- $ s_1^2 $ and $ s_2^2 $ are the variances of the throughputs for DAAT and TAAT,\n",
    "- $n_1$ and $n_2$ are the number of observations for DAAT and TAAT.\n",
    "\n",
    "The t-test result (statistic  t  and p-value) helps us determine if the difference between the two approaches is statistically significant. If the p-value is below a predefined threshold (e.g., \\( p < 0.05 \\)), we can reject the null hypothesis that both groups have the same throughput.\n"
   ]
  },
  {
   "cell_type": "markdown",
   "metadata": {
    "id": "DSxFhO-QCWjV"
   },
   "source": []
  },
  {
   "cell_type": "code",
   "execution_count": null,
   "metadata": {
    "colab": {
     "base_uri": "https://localhost:8080/",
     "height": 496
    },
    "id": "WfqEhybsMVCk",
    "outputId": "7242330c-3574-4020-a4a4-e0f9b058c69f"
   },
   "outputs": [
    {
     "name": "stdout",
     "output_type": "stream",
     "text": [
      "467 10\n"
     ]
    },
    {
     "name": "stderr",
     "output_type": "stream",
     "text": [
      "Processing iterations: 100%|██████████| 10/10 [03:56<00:00, 23.63s/iter]\n"
     ]
    },
    {
     "name": "stdout",
     "output_type": "stream",
     "text": [
      "DAAT - Average Throughput: 0.85, Variance: 0.23\n",
      "TAAT - Average Throughput: 1.47, Variance: 0.54\n",
      "DAAT - Average Query Time: 1.54077 sec\n",
      "TAAT - Average Query Time: 0.82207 sec\n",
      "T-test (Throughput): t=-2.13, p=4.74e-02\n"
     ]
    },
    {
     "data": {
      "image/png": "[encoded data removed]",
      "text/plain": [
       "<Figure size 1200x600 with 1 Axes>"
      ]
     },
     "metadata": {},
     "output_type": "display_data"
    }
   ],
   "source": [
    "import random\n",
    "import time\n",
    "import numpy as np\n",
    "import matplotlib.pyplot as plt\n",
    "from scipy.stats import ttest_ind\n",
    "from tqdm import tqdm  # Import tqdm for progress bar\n",
    "\n",
    "def evaluate_query_processor(daat_func, taat_func, queries, index, n_iter=10, k_sample=10):\n",
    "    results = {\n",
    "        \"throughputs_daat\": [],\n",
    "        \"throughputs_taat\": [],\n",
    "        \"mean_times_daat\": [],\n",
    "        \"mean_times_taat\": [],\n",
    "        \"variances_daat\": [],\n",
    "        \"variances_taat\": []\n",
    "    }\n",
    "\n",
    "    print(len(queries), k_sample)\n",
    "    with tqdm(total=n_iter, desc=\"Processing iterations\", unit=\"iter\") as pbar:\n",
    "        for _ in range(n_iter):\n",
    "            # Sample the same set of queries for both functions\n",
    "            sampled_queries = random.sample(queries, k_sample)  # Convert iterator to list if necessary\n",
    "            query_times_daat = []\n",
    "            query_times_taat = []\n",
    "\n",
    "            for query in sampled_queries:\n",
    "                # Process DAAT\n",
    "                start_time = time.time()\n",
    "                daat_func(query, index)\n",
    "                elapsed_time = time.time() - start_time\n",
    "                query_times_daat.append(elapsed_time)\n",
    "\n",
    "                # Process TAAT\n",
    "                start_time = time.time()\n",
    "                taat_func(query, index)\n",
    "                elapsed_time = time.time() - start_time\n",
    "                query_times_taat.append(elapsed_time)\n",
    "\n",
    "            # Calculate metrics for DAAT\n",
    "            mean_time_daat = np.mean(query_times_daat)\n",
    "            variance_time_daat = np.var(query_times_daat)\n",
    "            throughput_daat = k_sample / sum(query_times_daat)\n",
    "\n",
    "            # Calculate metrics for TAAT\n",
    "            mean_time_taat = np.mean(query_times_taat)\n",
    "            variance_time_taat = np.var(query_times_taat)\n",
    "            throughput_taat = k_sample / sum(query_times_taat)\n",
    "\n",
    "            # Save the results\n",
    "            results[\"throughputs_daat\"].append(throughput_daat)\n",
    "            results[\"throughputs_taat\"].append(throughput_taat)\n",
    "            results[\"mean_times_daat\"].append(mean_time_daat)\n",
    "            results[\"mean_times_taat\"].append(mean_time_taat)\n",
    "            results[\"variances_daat\"].append(variance_time_daat)\n",
    "            results[\"variances_taat\"].append(variance_time_taat)\n",
    "\n",
    "            pbar.update(1)\n",
    "\n",
    "    return results\n",
    "\n",
    "# Simulate a set of queries and an index (to be implemented)\n",
    "queries = list(dataset.queries_iter())  # List or iterator of queries\n",
    "\n",
    "# Compare performances\n",
    "n_iter = 10\n",
    "k_sample = 10\n",
    "\n",
    "# Remove decorators from the functions to be executed\n",
    "results = evaluate_query_processor(query_process_new_daat, query_process_new_taat, queries, inv_index, n_iter, k_sample)\n",
    "\n",
    "# Descriptive statistics\n",
    "mean_daat_throughput = np.mean(results[\"throughputs_daat\"])\n",
    "mean_taat_throughput = np.mean(results[\"throughputs_taat\"])\n",
    "var_daat_throughput = np.var(results[\"throughputs_daat\"])\n",
    "var_taat_throughput = np.var(results[\"throughputs_taat\"])\n",
    "\n",
    "print(f\"DAAT - Average Throughput: {mean_daat_throughput:.2f}, Variance: {var_daat_throughput:.2f}\")\n",
    "print(f\"TAAT - Average Throughput: {mean_taat_throughput:.2f}, Variance: {var_taat_throughput:.2f}\")\n",
    "\n",
    "mean_daat_query_time = np.mean(results[\"mean_times_daat\"])\n",
    "mean_taat_query_time = np.mean(results[\"mean_times_taat\"])\n",
    "print(f\"DAAT - Average Query Time: {mean_daat_query_time:.5f} sec\")\n",
    "print(f\"TAAT - Average Query Time: {mean_taat_query_time:.5f} sec\")\n",
    "\n",
    "# T-test\n",
    "t_stat, p_value = ttest_ind(results[\"throughputs_daat\"], results[\"throughputs_taat\"])\n",
    "print(f\"T-test (Throughput): t={t_stat:.2f}, p={p_value:.2e}\")\n",
    "\n",
    "# Plots\n",
    "plt.figure(figsize=(12, 6))\n",
    "plt.plot(results[\"throughputs_daat\"], label=\"DAAT Throughput\", marker='o')\n",
    "plt.plot(results[\"throughputs_taat\"], label=\"TAAT Throughput\", marker='s')\n",
    "plt.xlabel(\"Iteration\")\n",
    "plt.ylabel(\"Throughput (query/sec)\")\n",
    "plt.title(\"Throughput Comparison Between DAAT and TAAT\")\n",
    "plt.legend()\n",
    "plt.grid()\n",
    "plt.show()\n"
   ]
  },
  {
   "cell_type": "markdown",
   "metadata": {
    "id": "Du9SMGqOCY79"
   },
   "source": [
    "As reported by this evaluation, the **TAAT** method, for execution with a local runtime and a moderately sized collection (4.6 million documents), proves to be significantly more efficient than **DAAT**, with an average throughput of **1.31 queries per second**.\n"
   ]
  },
  {
   "cell_type": "markdown",
   "metadata": {
    "id": "mu1mfXxdMhGW"
   },
   "source": [
    "# Effectiveness evaluation"
   ]
  },
  {
   "cell_type": "markdown",
   "metadata": {
    "id": "pAMdCkpfDf1m"
   },
   "source": [
    "At this point, during the evaluation of the effectiveness of our IR model, we use the metrics available in **IR_measures**, create a list of **ScoreDoc** objects comparable with the **qrels** provided by **BEIR**, and verify the results.\n"
   ]
  },
  {
   "cell_type": "code",
   "execution_count": null,
   "metadata": {
    "id": "9qkVaQF6MmAi"
   },
   "outputs": [],
   "source": [
    "from ir_measures import ScoredDoc\n",
    "import ir_measures"
   ]
  },
  {
   "cell_type": "code",
   "execution_count": null,
   "metadata": {
    "colab": {
     "base_uri": "https://localhost:8080/"
    },
    "executionInfo": {
     "elapsed": 14,
     "status": "ok",
     "timestamp": 1736239056964,
     "user": {
      "displayName": "l v",
      "userId": "15300295730160774968"
     },
     "user_tz": -60
    },
    "id": "Yfq3HSF7M4Qs",
    "outputId": "cb12ed75-519d-4fdb-e6cc-c61688768b23"
   },
   "outputs": [
    {
     "name": "stderr",
     "output_type": "stream",
     "text": [
      "[INFO] [starting] opening zip file\n",
      "[INFO] [finished] opening zip file [1ms]\n"
     ]
    },
    {
     "data": {
      "text/plain": [
       "TrecQrel(query_id='INEX_LD-2009022', doc_id='<dbpedia:Afghan_cuisine>', relevance=0, iteration='0')"
      ]
     },
     "execution_count": 23,
     "metadata": {},
     "output_type": "execute_result"
    }
   ],
   "source": [
    "import ir_datasets\n",
    "dataset_test = ir_datasets.load(\"beir/dbpedia-entity/test\")\n",
    "next(dataset_test.qrels_iter())"
   ]
  },
  {
   "cell_type": "code",
   "execution_count": null,
   "metadata": {
    "id": "dG79QKnsM5_f"
   },
   "outputs": [],
   "source": [
    "results=[]\n",
    "# creation of the istance ScoreDoc for the ir_measures\n",
    "def CreateScoreDoc(heap):\n",
    "        for elem in heap:\n",
    "            scoredoc=ScoredDoc(elem[1], str(elem[2]),elem[0])\n",
    "            results.append(scoredoc)"
   ]
  },
  {
   "cell_type": "code",
   "execution_count": null,
   "metadata": {
    "id": "PPHnpgM5M9MU"
   },
   "outputs": [],
   "source": [
    "from ir_measures import Qrel\n",
    "# conversion from  qrel ir_dataset to ir_measures Qrel\n",
    "dataset_qrels=list(dataset_test.qrels_iter())\n",
    "qrels=[]\n",
    "for dq in dataset_qrels:\n",
    "    qrels.append(Qrel(dq.query_id,dq.doc_id,dq.relevance))"
   ]
  },
  {
   "cell_type": "code",
   "execution_count": null,
   "metadata": {
    "id": "Wmll-qCBM_8B"
   },
   "outputs": [],
   "source": [
    "# Creation of the results for effectivenss\n",
    "def query_processing_effectiveness(queries_iter):\n",
    "    for q in tqdm(dataset.queries_iter(), desc=\"Querying Effectiveness\",total=dataset.queries_count()):\n",
    "        query = preprocess(q.text)\n",
    "        termids = inv_index.get_termids(query)\n",
    "        postings = inv_index.get_postings(termids)\n",
    "        res = new_taat(q.query_id,postings,inv_index.doc)\n",
    "        CreateScoreDoc(res)"
   ]
  },
  {
   "cell_type": "code",
   "execution_count": null,
   "metadata": {
    "colab": {
     "base_uri": "https://localhost:8080/"
    },
    "executionInfo": {
     "elapsed": 397416,
     "status": "ok",
     "timestamp": 1736239460311,
     "user": {
      "displayName": "l v",
      "userId": "15300295730160774968"
     },
     "user_tz": -60
    },
    "id": "z8lctnh-EPC9",
    "outputId": "1c361432-d414-49fe-c1e6-7f9784b8873c"
   },
   "outputs": [
    {
     "name": "stderr",
     "output_type": "stream",
     "text": [
      "Querying Effectiveness: 100%|██████████| 467/467 [06:37<00:00,  1.18it/s]\n"
     ]
    }
   ],
   "source": [
    "query_processing_effectiveness(dataset.queries_iter())"
   ]
  },
  {
   "cell_type": "markdown",
   "metadata": {
    "id": "zgV2Rat0p1B7"
   },
   "source": [
    "## Evaluator Class for Comparing Results with Qrels\n",
    "\n",
    "We have implemented the `IRSystemEvaluator` class to facilitate the evaluation of retrieval results by comparing them to the qrels using the `ir_measures` library. The results are transformed into a `scoredoc` format, ensuring compatibility with the library's evaluation methods. In my dataset (DBpedia-entity), the qrels are graded with relevance levels of 0, 1, and 2, which reflect varying degrees of importance for the documents. Given this structure, it is essential to focus on metrics that account for **graded relevance** effectively.\n",
    "\n",
    "The primary measures used are:\n",
    "- **nDCG (Normalized Discounted Cumulative Gain)**: This metric is ideal for graded qrels as it rewards higher relevance levels while penalizing lower-ranked relevant documents.\n",
    "- **MAP (Mean Average Precision)**: A robust measure for overall ranking quality, aggregating precision across all positions.\n",
    "- **Precision@k (P@k)**: Useful for assessing the proportion of relevant documents among the top `k` results, especially valuable for evaluating user satisfaction with the highest-ranked results.\n",
    "- **Recall@k**: Measures how much of the total relevant information is retrieved in the top `k` documents, providing insights into the system's coverage.\n",
    "\n",
    "These metrics are preferred because they inherently handle graded relevance better than binary metrics like F1-score or accuracy, making them more suited for evaluating a dataset with relevance levels like DBpedia-entity. Other metrics, such as rank correlation measures, could complement the evaluation but are not as critical for this context.\n"
   ]
  },
  {
   "cell_type": "code",
   "execution_count": null,
   "metadata": {
    "colab": {
     "base_uri": "https://localhost:8080/"
    },
    "executionInfo": {
     "elapsed": 401,
     "status": "ok",
     "timestamp": 1736239493278,
     "user": {
      "displayName": "l v",
      "userId": "15300295730160774968"
     },
     "user_tz": -60
    },
    "id": "LKCvBvwsNFwg",
    "outputId": "c2e363e2-2b20-49a1-f357-e2f00e3dc6a7"
   },
   "outputs": [
    {
     "name": "stdout",
     "output_type": "stream",
     "text": [
      "Precision@10: {P@10: 0.2650000000000001}\n",
      "Recall@10: {R@10: 0.1803579622827695}\n",
      "Scores: {nDCG@10: {nDCG@10: 0.2928845533039625}, AP: {AP: 0.13216855168144112}, P@5: {P@5: 0.32300000000000045}, R@10: {R@10: 0.1803579622827695}}\n"
     ]
    }
   ],
   "source": [
    "import ir_measures\n",
    "from ir_measures import nDCG, AP, P, Recall,MAP\n",
    "\n",
    "class IRSystemEvaluator:\n",
    "    def __init__(self, qrels, results):\n",
    "        self.qrels = qrels\n",
    "        self.results = results\n",
    "\n",
    "    def evaluate(self, metrics=[nDCG@10, MAP, P@5, Recall@10]):\n",
    "        scores = {}\n",
    "        for metric in metrics:\n",
    "            score = ir_measures.calc_aggregate([metric], self.qrels, self.results)\n",
    "            scores[metric] = score\n",
    "        return scores\n",
    "\n",
    "    def detailed_ndcg(self, k=10):\n",
    "        \"\"\"\n",
    "        Calculates the nDCG@k metric, suitable for qrels with multi-level relevance.\n",
    "\n",
    "        :param k: Cutoff level for nDCG\n",
    "        :return: nDCG@k\n",
    "        \"\"\"\n",
    "        return ir_measures.calc_aggregate([nDCG@k], self.qrels, self.results)\n",
    "\n",
    "    def precision_at_k(self, k=10):\n",
    "        \"\"\"\n",
    "        Calculates Precision@k, useful for evaluating precision in the top positions.\n",
    "\n",
    "        :param k: Cutoff level for precision\n",
    "        :return: Precision@k\n",
    "        \"\"\"\n",
    "        return ir_measures.calc_aggregate([P @ k], self.qrels, self.results)\n",
    "\n",
    "    def recall_at_k(self, k=10):\n",
    "        \"\"\"\n",
    "        Calculates Recall@k, useful for seeing how much the system retrieves from the top k documents.\n",
    "\n",
    "        :param k: Cutoff level for recall\n",
    "        :return: Recall@k\n",
    "        \"\"\"\n",
    "        return ir_measures.calc_aggregate([Recall @ k], self.qrels, self.results)\n",
    "\n",
    "# Example usage of the class\n",
    "\n",
    "evaluator = IRSystemEvaluator(qrels, results)\n",
    "# Precision@10\n",
    "precision_10 = evaluator.precision_at_k(k=10)\n",
    "print(\"Precision@10:\", precision_10)\n",
    "\n",
    "# Recall@10\n",
    "recall_10 = evaluator.recall_at_k(k=10)\n",
    "print(\"Recall@10:\", recall_10)\n",
    "\n",
    "# Perform the general evaluation\n",
    "scores = evaluator.evaluate()\n",
    "print(\"Scores:\", scores)\n"
   ]
  },
  {
   "cell_type": "markdown",
   "metadata": {
    "id": "zwVmnsdWNKSj"
   },
   "source": [
    "# Comparison with pyterrier experiment"
   ]
  },
  {
   "cell_type": "markdown",
   "metadata": {
    "id": "jITR1sG7EVUO"
   },
   "source": [
    "In this section, we observe the results obtained from PyTerrier to verify if the results align with already developed IR systems. However, the dpedia-entity index is not provided by PyTerrier, so we also included the code that allowed us to convert the collection, queries, qrels into CSV files and to create the PyTerrier inverted index.\n"
   ]
  },
  {
   "cell_type": "code",
   "execution_count": null,
   "metadata": {
    "id": "AOFIjTWAhJsj"
   },
   "outputs": [],
   "source": [
    "!pip install -q python-terrier"
   ]
  },
  {
   "cell_type": "code",
   "execution_count": null,
   "metadata": {
    "colab": {
     "base_uri": "https://localhost:8080/"
    },
    "executionInfo": {
     "elapsed": 9604,
     "status": "ok",
     "timestamp": 1736260766131,
     "user": {
      "displayName": "l v",
      "userId": "15300295730160774968"
     },
     "user_tz": -60
    },
    "id": "LsichJ2gNWq5",
    "outputId": "3c6c4079-a873-463e-8361-9dba7e176170"
   },
   "outputs": [
    {
     "name": "stdout",
     "output_type": "stream",
     "text": [
      "terrier-assemblies 5.10 jar-with-dependencies not found, downloading to /root/.pyterrier...\n",
      "Done\n",
      "terrier-python-helper 0.0.8 jar not found, downloading to /root/.pyterrier...\n",
      "Done\n"
     ]
    },
    {
     "name": "stderr",
     "output_type": "stream",
     "text": [
      "Java started and loaded: pyterrier.java, pyterrier.terrier.java [version=5.10 (build: craigm 2024-08-22 17:33), helper_version=0.0.8]\n",
      "<ipython-input-24-87c43134d443>:2: DeprecationWarning: Call to deprecated method pt.init(). Deprecated since version 0.11.0.\n",
      "java is now started automatically with default settings. To force initialisation early, run:\n",
      "pt.java.init() # optional, forces java initialisation\n",
      "  pt.init()\n"
     ]
    }
   ],
   "source": [
    "import pyterrier as pt\n",
    "pt.init()"
   ]
  },
  {
   "cell_type": "markdown",
   "metadata": {
    "id": "XXpCydxYiUpH"
   },
   "source": [
    "\n",
    "```\n",
    "import google.colab\n",
    "import pandas as pd\n",
    "google.colab.drive.mount('/content/drive/')\n",
    "dbpedia=pt.datasets.get_dataset(\"irds:beir/dbpedia-entity/test\")\n",
    "BM25 = pt.terrier.Retriever(dbpedia.get_index(), wmodel=\"BM25\")\n",
    "\n",
    "# Load dataset.csv into a DataFrame\n",
    "dataset_df = pd.read_csv(\"/content/drive/Shareddrives/Multimedia /dataset.csv\")\n",
    "\n",
    "# Load queries.csv into a DataFrame\n",
    "queries_df = pd.read_csv(\"/content/drive/Shareddrives/Multimedia /queries.csv\")\n",
    "qrels_df = pd.read_csv(\"/content/drive/Shareddrives/Multimedia /qrels.csv\")\n",
    "\n",
    "# Display the first few rows of each DataFrame to confirm successful loading\n",
    "print(\"Dataset CSV:\")\n",
    "print(dataset_df.head())\n",
    "\n",
    "print(\"\\nQueries CSV:\")\n",
    "print(queries_df.head())\n",
    "```\n",
    "\n"
   ]
  },
  {
   "cell_type": "code",
   "execution_count": null,
   "metadata": {
    "id": "Fc6Y_qoOPeZA"
   },
   "outputs": [],
   "source": [
    "import pandas as pd\n",
    "import re\n",
    "queries_df = pd.read_csv(\"your path\")\n",
    "queries_df['text'] = queries_df['text'].apply(lambda x: re.sub(r\"[^a-zA-Z0-9\\s]\", \"\", x))\n",
    "qrels_df = pd.read_csv(\"your path\")"
   ]
  },
  {
   "cell_type": "code",
   "execution_count": null,
   "metadata": {
    "colab": {
     "base_uri": "https://localhost:8080/"
    },
    "executionInfo": {
     "elapsed": 1656,
     "status": "ok",
     "timestamp": 1737551992671,
     "user": {
      "displayName": "Nicola Tonellotto",
      "userId": "17533833776178224794"
     },
     "user_tz": -60
    },
    "id": "7ugnv5tn99M4",
    "outputId": "86170f1f-36be-47b8-a536-eceda0b26977"
   },
   "outputs": [
    {
     "name": "stdout",
     "output_type": "stream",
     "text": [
      "Drive already mounted at /content/drive; to attempt to forcibly remount, call drive.mount(\"/content/drive\", force_remount=True).\n"
     ]
    }
   ],
   "source": [
    "from google.colab import drive\n",
    "drive.mount('/content/drive')"
   ]
  },
  {
   "cell_type": "code",
   "execution_count": null,
   "metadata": {
    "colab": {
     "base_uri": "https://localhost:8080/"
    },
    "executionInfo": {
     "elapsed": 14173,
     "status": "ok",
     "timestamp": 1736242131562,
     "user": {
      "displayName": "NICCOLÒ SETTIMELLI",
      "userId": "04777703240454802921"
     },
     "user_tz": -60
    },
    "id": "mDh-fKoORblS",
    "outputId": "967d1078-3f79-4052-9ba4-73a29527f06b"
   },
   "outputs": [
    {
     "name": "stdout",
     "output_type": "stream",
     "text": [
      "09:28:43.578 [main] WARN org.terrier.structures.BaseCompressingMetaIndex -- File /content/drive/Shareddrives/Consegna_Progetti_MIRCV/IR/IR_Indexes/index_3docs/data.meta-0.fsomapfile containing reverse meta mapping for keydocno is missing. Reverse lookups for this key will be disabled\n",
      "Number of documents: 4635922\n",
      "Number of terms: 4523524\n",
      "Number of postings: 118357457\n",
      "Number of fields: 0\n",
      "Number of tokens: 145436128\n",
      "Field names: []\n",
      "Positions:   false\n",
      "\n",
      "Index(['qid', 'query'], dtype='object')\n"
     ]
    }
   ],
   "source": [
    "index = pt.IndexFactory.of(\"your path\")\n",
    "print(index.getCollectionStatistics())\n",
    "queries_df.rename(columns={'text': 'query'}, inplace=True)\n",
    "print(queries_df.columns)\n",
    "br = pt.terrier.Retriever(index, wmodel=\"BM25\")"
   ]
  },
  {
   "cell_type": "code",
   "execution_count": null,
   "metadata": {
    "colab": {
     "base_uri": "https://localhost:8080/"
    },
    "executionInfo": {
     "elapsed": 54806,
     "status": "ok",
     "timestamp": 1736242192335,
     "user": {
      "displayName": "NICCOLÒ SETTIMELLI",
      "userId": "04777703240454802921"
     },
     "user_tz": -60
    },
    "id": "QFe8XcnNM9q4",
    "outputId": "28a3decc-9157-4b14-e92b-13709e841d1f"
   },
   "outputs": [
    {
     "name": "stdout",
     "output_type": "stream",
     "text": [
      "   name       map  ndcg_cut_10  recip_rank    P.10\n",
      "0  BM25  0.204483     0.280363    0.554026  0.2535\n"
     ]
    }
   ],
   "source": [
    "results = pt.Experiment(\n",
    "    [br],             # list of retrieval models\n",
    "    queries_df,                 # queries DataFrame\n",
    "    qrels_df,                   # relevance judgments DataFrame\n",
    "    eval_metrics=[\"map\", \"ndcg_cut_10\", \"recip_rank\", \"P.10\"],  # metrics to evaluate\n",
    "    names=[\"BM25\"]           # optional name for the retriever\n",
    ")\n",
    "\n",
    "# Display the experiment results\n",
    "print(results)"
   ]
  },
  {
   "cell_type": "markdown",
   "metadata": {
    "id": "qr6dCzCVE941"
   },
   "source": [
    "We observe how the metrics are very similar between our IR system and that one built in Pyterrier.\n"
   ]
  },
  {
   "cell_type": "markdown",
   "metadata": {
    "id": "Zt5ro1yYumhZ"
   },
   "source": [
    "The Search Engine\n",
    "\n"
   ]
  },
  {
   "cell_type": "code",
   "execution_count": null,
   "metadata": {
    "id": "Jpd5H1RWPKTc"
   },
   "outputs": [],
   "source": [
    "doc_lookup = {doc.doc_id: doc for doc in dataset.docs_iter()}"
   ]
  },
  {
   "cell_type": "code",
   "execution_count": null,
   "metadata": {
    "colab": {
     "base_uri": "https://localhost:8080/"
    },
    "executionInfo": {
     "elapsed": 24954,
     "status": "ok",
     "timestamp": 1736244794783,
     "user": {
      "displayName": "l v",
      "userId": "15300295730160774968"
     },
     "user_tz": -60
    },
    "id": "NL8HNerjrmsF",
    "outputId": "a429f004-e1aa-48c1-c4ae-cf3010b7274f"
   },
   "outputs": [
    {
     "name": "stdout",
     "output_type": "stream",
     "text": [
      "Enter your search query: What is Information Retrieval?\n",
      "Top results:\n",
      "<dbpedia:List_of_information_retrieval_libraries>\n",
      "List of information retrieval libraries (Score: 22.30)\n",
      "Link: <http://dbpedia.org/resource/List_of_information_retrieval_libraries>\n",
      "\n",
      "<dbpedia:Relevance_(information_retrieval)>\n",
      "Relevance (information retrieval) (Score: 22.12)\n",
      "Link: <http://dbpedia.org/resource/Relevance_(information_retrieval)>\n",
      "\n",
      "<dbpedia:Adversarial_information_retrieval>\n",
      "Adversarial information retrieval (Score: 21.84)\n",
      "Link: <http://dbpedia.org/resource/Adversarial_information_retrieval>\n",
      "\n",
      "<dbpedia:Cross-language_information_retrieval>\n",
      "Cross-language information retrieval (Score: 21.83)\n",
      "Link: <http://dbpedia.org/resource/Cross-language_information_retrieval>\n",
      "\n",
      "<dbpedia:Retrievability>\n",
      "Retrievability (Score: 21.83)\n",
      "Link: <http://dbpedia.org/resource/Retrievability>\n",
      "\n",
      "<dbpedia:Information_retrieval_applications>\n",
      "Information retrieval applications (Score: 21.73)\n",
      "Link: <http://dbpedia.org/resource/Information_retrieval_applications>\n",
      "\n",
      "<dbpedia:Information_Retrieval_Facility>\n",
      "Information Retrieval Facility (Score: 21.31)\n",
      "Link: <http://dbpedia.org/resource/Information_Retrieval_Facility>\n",
      "\n",
      "<dbpedia:European_Conference_on_Information_Retrieval>\n",
      "European Conference on Information Retrieval (Score: 21.21)\n",
      "Link: <http://dbpedia.org/resource/European_Conference_on_Information_Retrieval>\n",
      "\n",
      "<dbpedia:Legal_information_retrieval>\n",
      "Legal information retrieval (Score: 21.11)\n",
      "Link: <http://dbpedia.org/resource/Legal_information_retrieval>\n",
      "\n",
      "<dbpedia:Cranfield_experiments>\n",
      "Cranfield experiments (Score: 20.99)\n",
      "Link: <http://dbpedia.org/resource/Cranfield_experiments>\n",
      "\n"
     ]
    }
   ],
   "source": [
    "class SearchEngine:\n",
    "    def __init__(self, index, doc_lookup):\n",
    "        self.index = index\n",
    "        self.doc_lookup = doc_lookup  # Passa la lookup come parametro\n",
    "\n",
    "    def search(self):\n",
    "        user_query = input(\"Enter your search query: \")\n",
    "        tokens = set(preprocess(user_query))  # Pre-elabora la query\n",
    "        term_ids = self.index.get_termids(tokens)  # Ottieni gli ID dei termini\n",
    "        postings = self.index.get_postings(term_ids)  # Ottieni i postings per gli ID dei termini\n",
    "\n",
    "        results = new_taat(user_query, postings, self.index.doc)  # Calcolo del ranking\n",
    "\n",
    "        print(\"Top results:\")\n",
    "        for score, _,doc_id in results:\n",
    "            print(doc_id)\n",
    "            # Recupera i dati del documento dalla lookup\n",
    "            doc_data = self.doc_lookup.get(doc_id)\n",
    "            if doc_data:  # Verifica che il documento esista\n",
    "                print(f\"{doc_data.title} (Score: {score:.2f})\")\n",
    "                print(f\"Link: {doc_data.url}\\n\")\n",
    "            else:\n",
    "                print(f\"Document with ID {doc_id} not found in the dataset.\")\n",
    "\n",
    "\n",
    "# Inizializza il motore di ricerca con la lookup esterna\n",
    "search_engine = SearchEngine(inv_index, doc_lookup)\n",
    "search_engine.search()\n"
   ]
  },
  {
   "cell_type": "code",
   "execution_count": null,
   "metadata": {
    "id": "5VUHmv4qvbkh"
   },
   "outputs": [],
   "source": [
    "\n"
   ]
  }
 ],
 "metadata": {
  "colab": {
   "machine_shape": "hm",
   "provenance": []
  },
  "kernelspec": {
   "display_name": "Python 3",
   "name": "python3"
  },
  "language_info": {
   "name": "python"
  },
  "widgets": {
   "application/vnd.jupyter.widget-state+json": {
    "0b29c592918c49a68b761cdc6e751f36": {
     "model_module": "@jupyter-widgets/controls",
     "model_module_version": "1.5.0",
     "model_name": "HTMLModel",
     "state": {
      "_dom_classes": [],
      "_model_module": "@jupyter-widgets/controls",
      "_model_module_version": "1.5.0",
      "_model_name": "HTMLModel",
      "_view_count": null,
      "_view_module": "@jupyter-widgets/controls",
      "_view_module_version": "1.5.0",
      "_view_name": "HTMLView",
      "description": "",
      "description_tooltip": null,
      "layout": "IPY_MODEL_7400b53ffd6b42b0b945e6c419422d0a",
      "placeholder": "​",
      "style": "IPY_MODEL_d6ba98aaae2c4b6bbc975fe0928fe718",
      "value": "Indexing:   1%"
     }
    },
    "44cb7a1ac99147d78ea7c00fe669e4a2": {
     "model_module": "@jupyter-widgets/controls",
     "model_module_version": "1.5.0",
     "model_name": "HBoxModel",
     "state": {
      "_dom_classes": [],
      "_model_module": "@jupyter-widgets/controls",
      "_model_module_version": "1.5.0",
      "_model_name": "HBoxModel",
      "_view_count": null,
      "_view_module": "@jupyter-widgets/controls",
      "_view_module_version": "1.5.0",
      "_view_name": "HBoxView",
      "box_style": "",
      "children": [
       "IPY_MODEL_0b29c592918c49a68b761cdc6e751f36",
       "IPY_MODEL_81d31a2bbad14e3fb3a2c8ee10b4ddf5",
       "IPY_MODEL_7a8581665d4242d4b97dd3985a58feab"
      ],
      "layout": "IPY_MODEL_c0321cac8cc140aca12305cfb7fc2d31"
     }
    },
    "4c64b42775dc49cd8ca20da360835a7e": {
     "model_module": "@jupyter-widgets/base",
     "model_module_version": "1.2.0",
     "model_name": "LayoutModel",
     "state": {
      "_model_module": "@jupyter-widgets/base",
      "_model_module_version": "1.2.0",
      "_model_name": "LayoutModel",
      "_view_count": null,
      "_view_module": "@jupyter-widgets/base",
      "_view_module_version": "1.2.0",
      "_view_name": "LayoutView",
      "align_content": null,
      "align_items": null,
      "align_self": null,
      "border": null,
      "bottom": null,
      "display": null,
      "flex": null,
      "flex_flow": null,
      "grid_area": null,
      "grid_auto_columns": null,
      "grid_auto_flow": null,
      "grid_auto_rows": null,
      "grid_column": null,
      "grid_gap": null,
      "grid_row": null,
      "grid_template_areas": null,
      "grid_template_columns": null,
      "grid_template_rows": null,
      "height": null,
      "justify_content": null,
      "justify_items": null,
      "left": null,
      "margin": null,
      "max_height": null,
      "max_width": null,
      "min_height": null,
      "min_width": null,
      "object_fit": null,
      "object_position": null,
      "order": null,
      "overflow": null,
      "overflow_x": null,
      "overflow_y": null,
      "padding": null,
      "right": null,
      "top": null,
      "visibility": null,
      "width": null
     }
    },
    "6772620f06cd418786cd41bba7c7c805": {
     "model_module": "@jupyter-widgets/base",
     "model_module_version": "1.2.0",
     "model_name": "LayoutModel",
     "state": {
      "_model_module": "@jupyter-widgets/base",
      "_model_module_version": "1.2.0",
      "_model_name": "LayoutModel",
      "_view_count": null,
      "_view_module": "@jupyter-widgets/base",
      "_view_module_version": "1.2.0",
      "_view_name": "LayoutView",
      "align_content": null,
      "align_items": null,
      "align_self": null,
      "border": null,
      "bottom": null,
      "display": null,
      "flex": null,
      "flex_flow": null,
      "grid_area": null,
      "grid_auto_columns": null,
      "grid_auto_flow": null,
      "grid_auto_rows": null,
      "grid_column": null,
      "grid_gap": null,
      "grid_row": null,
      "grid_template_areas": null,
      "grid_template_columns": null,
      "grid_template_rows": null,
      "height": null,
      "justify_content": null,
      "justify_items": null,
      "left": null,
      "margin": null,
      "max_height": null,
      "max_width": null,
      "min_height": null,
      "min_width": null,
      "object_fit": null,
      "object_position": null,
      "order": null,
      "overflow": null,
      "overflow_x": null,
      "overflow_y": null,
      "padding": null,
      "right": null,
      "top": null,
      "visibility": null,
      "width": null
     }
    },
    "682d98523cf64d93bc408787baca1575": {
     "model_module": "@jupyter-widgets/controls",
     "model_module_version": "1.5.0",
     "model_name": "DescriptionStyleModel",
     "state": {
      "_model_module": "@jupyter-widgets/controls",
      "_model_module_version": "1.5.0",
      "_model_name": "DescriptionStyleModel",
      "_view_count": null,
      "_view_module": "@jupyter-widgets/base",
      "_view_module_version": "1.2.0",
      "_view_name": "StyleView",
      "description_width": ""
     }
    },
    "7400b53ffd6b42b0b945e6c419422d0a": {
     "model_module": "@jupyter-widgets/base",
     "model_module_version": "1.2.0",
     "model_name": "LayoutModel",
     "state": {
      "_model_module": "@jupyter-widgets/base",
      "_model_module_version": "1.2.0",
      "_model_name": "LayoutModel",
      "_view_count": null,
      "_view_module": "@jupyter-widgets/base",
      "_view_module_version": "1.2.0",
      "_view_name": "LayoutView",
      "align_content": null,
      "align_items": null,
      "align_self": null,
      "border": null,
      "bottom": null,
      "display": null,
      "flex": null,
      "flex_flow": null,
      "grid_area": null,
      "grid_auto_columns": null,
      "grid_auto_flow": null,
      "grid_auto_rows": null,
      "grid_column": null,
      "grid_gap": null,
      "grid_row": null,
      "grid_template_areas": null,
      "grid_template_columns": null,
      "grid_template_rows": null,
      "height": null,
      "justify_content": null,
      "justify_items": null,
      "left": null,
      "margin": null,
      "max_height": null,
      "max_width": null,
      "min_height": null,
      "min_width": null,
      "object_fit": null,
      "object_position": null,
      "order": null,
      "overflow": null,
      "overflow_x": null,
      "overflow_y": null,
      "padding": null,
      "right": null,
      "top": null,
      "visibility": null,
      "width": null
     }
    },
    "7a8581665d4242d4b97dd3985a58feab": {
     "model_module": "@jupyter-widgets/controls",
     "model_module_version": "1.5.0",
     "model_name": "HTMLModel",
     "state": {
      "_dom_classes": [],
      "_model_module": "@jupyter-widgets/controls",
      "_model_module_version": "1.5.0",
      "_model_name": "HTMLModel",
      "_view_count": null,
      "_view_module": "@jupyter-widgets/controls",
      "_view_module_version": "1.5.0",
      "_view_name": "HTMLView",
      "description": "",
      "description_tooltip": null,
      "layout": "IPY_MODEL_4c64b42775dc49cd8ca20da360835a7e",
      "placeholder": "​",
      "style": "IPY_MODEL_682d98523cf64d93bc408787baca1575",
      "value": " 24500/4635922 [00:06&lt;21:11, 3627.27it/s]"
     }
    },
    "81d31a2bbad14e3fb3a2c8ee10b4ddf5": {
     "model_module": "@jupyter-widgets/controls",
     "model_module_version": "1.5.0",
     "model_name": "FloatProgressModel",
     "state": {
      "_dom_classes": [],
      "_model_module": "@jupyter-widgets/controls",
      "_model_module_version": "1.5.0",
      "_model_name": "FloatProgressModel",
      "_view_count": null,
      "_view_module": "@jupyter-widgets/controls",
      "_view_module_version": "1.5.0",
      "_view_name": "ProgressView",
      "bar_style": "danger",
      "description": "",
      "description_tooltip": null,
      "layout": "IPY_MODEL_6772620f06cd418786cd41bba7c7c805",
      "max": 4635922,
      "min": 0,
      "orientation": "horizontal",
      "style": "IPY_MODEL_ab3b0ab8d48e42e28358ff0730b5ccf2",
      "value": 24500
     }
    },
    "ab3b0ab8d48e42e28358ff0730b5ccf2": {
     "model_module": "@jupyter-widgets/controls",
     "model_module_version": "1.5.0",
     "model_name": "ProgressStyleModel",
     "state": {
      "_model_module": "@jupyter-widgets/controls",
      "_model_module_version": "1.5.0",
      "_model_name": "ProgressStyleModel",
      "_view_count": null,
      "_view_module": "@jupyter-widgets/base",
      "_view_module_version": "1.2.0",
      "_view_name": "StyleView",
      "bar_color": null,
      "description_width": ""
     }
    },
    "c0321cac8cc140aca12305cfb7fc2d31": {
     "model_module": "@jupyter-widgets/base",
     "model_module_version": "1.2.0",
     "model_name": "LayoutModel",
     "state": {
      "_model_module": "@jupyter-widgets/base",
      "_model_module_version": "1.2.0",
      "_model_name": "LayoutModel",
      "_view_count": null,
      "_view_module": "@jupyter-widgets/base",
      "_view_module_version": "1.2.0",
      "_view_name": "LayoutView",
      "align_content": null,
      "align_items": null,
      "align_self": null,
      "border": null,
      "bottom": null,
      "display": null,
      "flex": null,
      "flex_flow": null,
      "grid_area": null,
      "grid_auto_columns": null,
      "grid_auto_flow": null,
      "grid_auto_rows": null,
      "grid_column": null,
      "grid_gap": null,
      "grid_row": null,
      "grid_template_areas": null,
      "grid_template_columns": null,
      "grid_template_rows": null,
      "height": null,
      "justify_content": null,
      "justify_items": null,
      "left": null,
      "margin": null,
      "max_height": null,
      "max_width": null,
      "min_height": null,
      "min_width": null,
      "object_fit": null,
      "object_position": null,
      "order": null,
      "overflow": null,
      "overflow_x": null,
      "overflow_y": null,
      "padding": null,
      "right": null,
      "top": null,
      "visibility": null,
      "width": null
     }
    },
    "d6ba98aaae2c4b6bbc975fe0928fe718": {
     "model_module": "@jupyter-widgets/controls",
     "model_module_version": "1.5.0",
     "model_name": "DescriptionStyleModel",
     "state": {
      "_model_module": "@jupyter-widgets/controls",
      "_model_module_version": "1.5.0",
      "_model_name": "DescriptionStyleModel",
      "_view_count": null,
      "_view_module": "@jupyter-widgets/base",
      "_view_module_version": "1.2.0",
      "_view_name": "StyleView",
      "description_width": ""
     }
    }
   }
  }
 },
 "nbformat": 4,
 "nbformat_minor": 0
}
